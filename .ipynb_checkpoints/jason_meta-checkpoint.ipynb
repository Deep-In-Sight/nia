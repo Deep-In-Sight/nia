{
 "cells": [
  {
   "cell_type": "code",
   "execution_count": 424,
   "id": "3de1e112",
   "metadata": {},
   "outputs": [],
   "source": [
    "import matplotlib.pyplot as plt \n",
    "import numpy as np\n",
    "from scipy import interpolate"
   ]
  },
  {
   "cell_type": "code",
   "execution_count": 2,
   "id": "cd1e3cfa",
   "metadata": {},
   "outputs": [],
   "source": [
    "import json"
   ]
  },
  {
   "cell_type": "code",
   "execution_count": 3,
   "id": "5a65d046",
   "metadata": {},
   "outputs": [],
   "source": [
    "from functools import partial\n",
    "        \n",
    "def get_converter(field:str):\n",
    "    if field == \"inst\":\n",
    "        keys = [\"S\", \"T\", \"L\", \"V\", \"M\"]\n",
    "    elif field == \"condition\":\n",
    "        keys = [\"F\", \"S\", \"D\", \"A\", \"N\"]\n",
    "    elif field == \"posture\":\n",
    "        keys = [\"S\", \"D\", \"P\", \"L\", \"F\", \n",
    "                \"C\", \"H\", \"E\", \"T\", \"U\"]\n",
    "    else:\n",
    "        raise ValueError(field)\n",
    "\n",
    "    return partial(_concat, keys=keys)\n",
    "\n",
    "def _concat(value, keys=None):\n",
    "    \"\"\"concatenate strings\"\"\"\n",
    "    code =\"\"\n",
    "    for s in keys:\n",
    "        if s in value:\n",
    "            code += s\n",
    "        else:\n",
    "            code += \"X\"\n",
    "    return code"
   ]
  },
  {
   "cell_type": "code",
   "execution_count": 4,
   "id": "aabd7e72",
   "metadata": {},
   "outputs": [],
   "source": [
    "concat_inst = get_converter(\"inst\")\n",
    "concat_condition = get_converter(\"condition\")\n",
    "concat_posture = get_converter(\"posture\")"
   ]
  },
  {
   "cell_type": "code",
   "execution_count": 5,
   "id": "1b302c7a",
   "metadata": {},
   "outputs": [],
   "source": [
    "## Variables below are to be read from csv file ##\n",
    "username = \"hoseung\"\n",
    "email = \"hschoi@dinsight.ai\"\n",
    "subject = 1\n",
    "medical = 1\n",
    "age = 34\n",
    "glasses = \"no\"\n",
    "cosmetic= \"no\"\n",
    "mask = \"no\"\n",
    "ver  = 6\n",
    "rev = 0\n",
    "date = \"2022-06-08\"\n",
    "loc = \"S101\"\n",
    "inst = \"S\"\n",
    "condition = \"FN\"\n",
    "posture = \"ST\"\n",
    "n_rgb = 6\n",
    "n_ir = 0\n",
    "n_point = 6\n",
    "n_head = 6\n",
    "n_gaze = 6\n",
    "tsize_rgb = 0.1\n",
    "tsize_ir = 0\n",
    "tsize_point = 0.01\n",
    "tsize_head = 0.5\n",
    "tsize_gaze = 0.5\n",
    "tsize_d_cam = 0.5\n",
    "tsize_d_disp = 0.5\n",
    "######################################\n",
    "\n",
    "\n",
    "x = {\n",
    "    \"id\": {\"subject\":subject, \"medical\":medical},\n",
    "    \"age\":age, \n",
    "    \"glasses\":glasses, \n",
    "    \"cosmetic\":cosmetic, \n",
    "    \"mask\":mask, \n",
    "    \"ver\":ver, \n",
    "    \"date\":date, \n",
    "    \"loc\":loc, \n",
    "    \"inst\":concat_inst(inst), \n",
    "    \"condition\":concat_condition(condition),\n",
    "    \"posture\":concat_posture(posture),\n",
    "    \"rev\":rev,\n",
    "    \"image\": {\"format\": {\"rgb\": \"mp4\",\"ir\": \"mp4\", \"point\":\"csv\", \"head\":\"csv\", \"gaze\":\"csv\", \n",
    "                         \"d_cam\":\"csv\", \"d_disp\":\"csv\"},\n",
    "                \"spec\":{\"rgb.w\":1920, \"rgb.h\":1080, \"ir.w\":1920, \"ir.h\":1080, \n",
    "                         \"point\":\"yyyy-mm-dd,hh:mm:ss,x,y\",\n",
    "                         \"head\":\"yyyy-mm-dd,hh:mm:ss,deg,deg,deg\",\n",
    "                         \"gaze\":\"yyyy-mm-dd,hh:mm:ss,deg,deg,deg\",\n",
    "                         \"d_cam\":\"yyyy-mm-dd,hh:mm:ss,cm\",\n",
    "                         \"d_disp\":\"yyyy-mm-dd,hh:mm:ss,cm\"},\n",
    "                \"total_size\":{\"rgb\":tsize_rgb, \"ir\":tsize_ir, \"point\":tsize_point, \"head\":tsize_head,\n",
    "                              \"gaze\":tsize_gaze, \"d_cam\":tsize_d_cam, \"d_disp\":tsize_d_disp},\n",
    "                \"total_count\":{\"rgb\":n_rgb, \"ir\":n_ir, \"point\":n_point, \"head\":n_head, \"gaze\":n_gaze}\n",
    "             },\n",
    "    \"task\":{\n",
    "        \"name\":\"NIA_EYE\",\n",
    "        \"created\":\"yyyy-mm-dd,hh:mm:ss\", \n",
    "        \"updated\":\"yyyy-mm-dd,hh:mm:ss\",\n",
    "        \"username\":username, \n",
    "        \"email\":email}\n",
    "}"
   ]
  },
  {
   "cell_type": "code",
   "execution_count": 6,
   "id": "0c8e8c1f",
   "metadata": {},
   "outputs": [],
   "source": [
    "# Dump json file\n",
    "fn = \"test.json\"\n",
    "with open(fn, \"w\") as f:\n",
    "    json.dump(x, f)"
   ]
  },
  {
   "cell_type": "markdown",
   "id": "5f952f4f",
   "metadata": {},
   "source": [
    "Eye-tracker, 얼굴 지향각, 시선 각, 카메라-촬영자 거리, 카메라-디스플레이 거리   \n",
    "각각은 영상의 매 프레임마다 측정값이 제공 됨.  \n",
    "\n",
    "이번에는 가짜 값을 만들어냄."
   ]
  },
  {
   "cell_type": "code",
   "execution_count": 301,
   "id": "f4702b7d",
   "metadata": {},
   "outputs": [],
   "source": [
    "#def gen_no_interest_xy():\n",
    "\n",
    "class Particle():\n",
    "    def __init__(self, width, height, nframes_tot):\n",
    "        \"\"\"mimic random gaze point move as randomly accelerated point in a lectangle.\n",
    "        \"\"\"\n",
    "        self.width = width\n",
    "        self.height = height\n",
    "        self.nframes_tot = nframes_tot\n",
    "        self.x = np.random.randint(100, self.width)\n",
    "        self.y = np.random.randint(100, self.height)\n",
    "        self.xtrace = []\n",
    "        self.ytrace = []\n",
    "        self.dxdt = 0\n",
    "        self.dydt = 0\n",
    "        self.ddxdtt = 0\n",
    "        self.ddydtt = 0\n",
    "        self.complete = False\n",
    "        \n",
    "    def accel(self, nframes):\n",
    "        \"\"\"accelerate for dt\"\"\"\n",
    "        for i in range(nframes):\n",
    "            # revert if outside the screen\n",
    "            if self.x < 0 or self.x > self.width: \n",
    "                self.x = min([max([0,self.x]),self.width])\n",
    "                self.ddxdtt *= -0.5\n",
    "                self.dxdt *= -0.1\n",
    "            if self.y < 0 or self.y > self.height: \n",
    "                self.y = min([max([0,self.y]),self.height])\n",
    "                self.ddydtt *= -0.5\n",
    "                self.dydt *= -0.1\n",
    "                \n",
    "            self.dxdt += self.ddxdtt\n",
    "            self.dydt += self.ddydtt\n",
    "            self.x += self.dxdt\n",
    "            self.y += self.dydt\n",
    "\n",
    "            self.xtrace.append(self.x)\n",
    "            self.ytrace.append(self.y)\n",
    "            if len(self.xtrace) == self.nframes_tot:\n",
    "                self.complete = True\n",
    "                break\n",
    "    \n",
    "    def random_move(self, max_dt = 10, max_acc = 3, min_acc=2, dt_stop=5):\n",
    "        \"\"\"\n",
    "        parameters\n",
    "        ----------\n",
    "        dt_stop:\n",
    "        dt larger than this threshold casues 'staring'\n",
    "        \"\"\"\n",
    "        self.xtrace = []\n",
    "        self.ytrace = []\n",
    "        while not self.complete:\n",
    "            dt = np.random.randint(max_dt) # random duration\n",
    "            # random acc with \n",
    "            self.ddxdtt = np.random.randint(min_acc, max_acc) * np.sign(np.random.rand() - self.x/self.width) \n",
    "            self.ddydtt = np.random.randint(min_acc, max_acc) * np.sign(np.random.rand() - self.y/self.height) \n",
    "            if dt >= dt_stop:\n",
    "                self.ddxdtt *= 0.01\n",
    "                self.ddydtt *= 0.01\n",
    "                self.dxdt *= 0.001\n",
    "                self.dydt *= 0.001\n",
    "                \n",
    "            self.accel(dt)\n",
    "        return np.clip(self.xtrace, 0, self.width), np.clip(self.ytrace, 0, self.height)\n",
    "    "
   ]
  },
  {
   "cell_type": "code",
   "execution_count": 329,
   "id": "e68ad747",
   "metadata": {},
   "outputs": [
    {
     "data": {
      "text/plain": [
       "[<matplotlib.lines.Line2D at 0x7f801072c370>]"
      ]
     },
     "execution_count": 329,
     "metadata": {},
     "output_type": "execute_result"
    },
    {
     "data": {
      "image/png": "[encoded data removed]",
      "text/plain": [
       "<Figure size 432x288 with 1 Axes>"
      ]
     },
     "metadata": {
      "needs_background": "light"
     },
     "output_type": "display_data"
    }
   ],
   "source": [
    "p = Particle(1920, 1080, 500)\n",
    "xx, yy = p.random_move(max_dt=30, dt_stop=15, max_acc=10, min_acc=5)\n",
    "plt.plot(xx, yy)"
   ]
  },
  {
   "cell_type": "code",
   "execution_count": 295,
   "id": "9f7f96e4",
   "metadata": {},
   "outputs": [],
   "source": [
    "def _gen_focus_xy(key_point_x, key_point_y, dt1, dt2, dt3):\n",
    "    tnow = 0\n",
    "    key_point_x_t = []\n",
    "    key_point_x_t.append(tnow)\n",
    "    key_point_y_t = []\n",
    "    key_point_y_t.append(tnow)\n",
    "\n",
    "    for i in range(nrows):\n",
    "        for j in range(ncols):\n",
    "            # next point\n",
    "            tnow += dt3\n",
    "            key_point_x_t.append(tnow)\n",
    "            # gaze\n",
    "            tnow += dt1\n",
    "\n",
    "        # next row\n",
    "        tnow += dt2\n",
    "        key_point_y_t.append(tnow)\n",
    "\n",
    "    key_point_x_t.append(tnow)\n",
    "    return key_point_x_t, key_point_y_t\n",
    "\n",
    "def gen_focus_xy():\n",
    "    nrows = 8 # 8 (virtual) rows \n",
    "    ncols = 5 # 5 (virtual) points in a row\n",
    "\n",
    "    # x, y coordinates of key points \n",
    "    key_point_x = [0] + [50, 250, 500, 750, 1000] * nrows + [1050]\n",
    "    key_point_y = [100, 310, 520, 730, 940, 1150, 1360, 1570, 1880]\n",
    "    ## time stamp of each key point in fraction of the total length\n",
    "    # dt1: duration of gazing a point\n",
    "    # dt2: time taken to switch to the next row\n",
    "    # dt3: time taken to switch to the next point\n",
    "    # All values are in relative unit and will be scaled to fit the clip duration.\n",
    "    dt1 = 0.2\n",
    "    dt2 = 0.05\n",
    "    dt3 = 0.01\n",
    "    \n",
    "    return _gen_focus_xy(key_point_x, key_point_y, dt1, dt2, dt3)\n",
    "\n",
    "def gen_no_interest_xy(width, height, nframes):\n",
    "    p = Particle(width, height, nframes)\n",
    "    return p.random_move(max_dt=30, dt_stop=15, max_acc=10, min_acc=5)# try other values!\n",
    "\n",
    "def rescale_duration(key_point_x_t, nframes):\n",
    "    # rescale to the clip duration\n",
    "    key_point_x_t = np.array(key_point_x_t)\n",
    "    key_point_x_t = key_point_x_t / key_point_x_t.max() * nframes\n",
    "    return key_point_x_t.astype(int) # key point frames\n",
    "\n",
    "def error(nn, mag=1):\n",
    "    return (np.random.rand(nn) - 0.5) * mag\n",
    "\n",
    "def interpolate_pos(key_point_x, key_point_frames_x, nframes, err_mag = 3):\n",
    "    pos = np.zeros(nframes)\n",
    "    assert len(key_point_x) == len(key_point_frames_x)\n",
    "\n",
    "    # x 에러 크기\n",
    "    for i in range(len(key_point_x)-1):\n",
    "        nn = key_point_frames_x[i+1] - key_point_frames_x[i]\n",
    "        pos[key_point_frames_x[i]:key_point_frames_x[i+1]] = key_point_x[i] + error(nn, err_mag)\n",
    "    \n",
    "    return pos\n",
    "\n",
    "def gen_error(nframes, mag=30, max_dt=100):    \n",
    "    # \n",
    "    i = 0\n",
    "    keyframes = []\n",
    "    keyvalues = []\n",
    "    while i < nframes-1:\n",
    "        keyframes.append(i)\n",
    "        dt = np.random.randint(1, max_dt)\n",
    "        i += dt\n",
    "\n",
    "    # to keep both side bounded (not to have exploding extrapolation)\n",
    "    keyframes.append(nframes-1)\n",
    "    keyvalues.append(error(len(keyframes), mag))\n",
    "    \n",
    "    # interpolate\n",
    "    smooth_curve = interpolate.interp1d(keyframes, keyvalues, kind='cubic', fill_value='extrapolate')\n",
    "    err = smooth_curve(np.arange(nframes))[0]\n",
    "    \n",
    "    return err"
   ]
  },
  {
   "cell_type": "code",
   "execution_count": 232,
   "id": "2a8e3d5d",
   "metadata": {},
   "outputs": [
    {
     "data": {
      "image/png": "[encoded data removed]",
      "text/plain": [
       "<Figure size 432x288 with 1 Axes>"
      ]
     },
     "metadata": {
      "needs_background": "light"
     },
     "output_type": "display_data"
    }
   ],
   "source": [
    "fig, ax = plt.subplots()\n",
    "ax.plot(xpos, ypos)\n",
    "ax.set_ylim([1920, 0])\n",
    "plt.show()"
   ]
  },
  {
   "cell_type": "markdown",
   "id": "63197de7",
   "metadata": {},
   "source": [
    "#### ISSUE\n",
    "1. 화면에 표시되는 순간과 관찰자의 눈이 화면을 찾아가는 시간의 차이가 발생함\n",
    "2. 그 차이가 사람에 따라 다를 것 (빠릿빠릿 vs 느릿느릿)"
   ]
  },
  {
   "cell_type": "markdown",
   "id": "50f42087",
   "metadata": {},
   "source": [
    "gaze pose는 각도이므로 점에서 각도로 다시 변환 해야함. "
   ]
  },
  {
   "cell_type": "code",
   "execution_count": null,
   "id": "13139a57",
   "metadata": {},
   "outputs": [],
   "source": [
    "def point_to_degree(xpos, ypos, d_cam, d_disp, ):\n",
    "    \"\"\"transformation이 너무... 많은데..?? \n",
    "    \"\"\""
   ]
  },
  {
   "cell_type": "markdown",
   "id": "e240c1b0",
   "metadata": {},
   "source": [
    "나머지는 대충 하자.... "
   ]
  },
  {
   "cell_type": "code",
   "execution_count": 435,
   "id": "5e015fef",
   "metadata": {},
   "outputs": [],
   "source": [
    "class Fake_generator():\n",
    "    def __init__(self, wdir, nframes, width, height, condition=\"\"):\n",
    "        self.wdir = wdir\n",
    "        self.nframes = nframes\n",
    "        self.width  = width\n",
    "        self.height = height\n",
    "        self.condition = condition\n",
    "        self.disp_size_x = 7 # in cm, 내 핸드폰\n",
    "        self.disp_size_y = 17 # in cm\n",
    "        \n",
    "    def gen_all(self):\n",
    "        self.gen_d_cam()\n",
    "        self.gen_d_disp()        \n",
    "        self.gen_head()\n",
    "        self.gen_pose_d()\n",
    "        self.gen_gaze_eye_trakcer()\n",
    "        \n",
    "    def gen_head(self):\n",
    "        \"\"\"head pose in roll,pitch,yaw\"\"\"\n",
    "        if self.condition == \"focus\":\n",
    "            mag = 0.2\n",
    "            max_dt = 100\n",
    "        elif self.condition == \"no_interest\":\n",
    "            mag = 1 # mag 1 -> 45 degree\n",
    "            max_dt = 50\n",
    "        \n",
    "        xx = gen_error(self.nframes, mag=mag, max_dt = max_dt)\n",
    "        yy = gen_error(self.nframes, mag=mag, max_dt = max_dt)\n",
    "        \n",
    "        pitch = np.rad2deg(np.arctan(xx)) # incorrect!\n",
    "        yaw = np.rad2deg(np.arctan(yy))\n",
    "        \n",
    "        roll = np.zeros(self.nframes)\n",
    "        self.head = {\"roll\":roll, \"pitch\":pitch, \"yaw\":yaw}        \n",
    "    \n",
    "    \n",
    "    def gen_pose_d(self):\n",
    "        \"\"\"display pose in roll,pitch,yaw\"\"\"\n",
    "        if self.condition == \"focus\":\n",
    "            mag = 0.2\n",
    "            max_dt = 200\n",
    "        elif self.condition == \"no_interest\":\n",
    "            mag = 0.5 # mag 1 -> 45 degree\n",
    "            max_dt = 150\n",
    "        \n",
    "        xx = gen_error(self.nframes, mag=mag, max_dt = max_dt)\n",
    "        yy = gen_error(self.nframes, mag=mag, max_dt = max_dt)\n",
    "        \n",
    "        pitch = np.rad2deg(np.arctan(xx)) # incorrect!\n",
    "        yaw = np.rad2deg(np.arctan(yy))\n",
    "        \n",
    "        roll = np.zeros(self.nframes)\n",
    "        self.disp_pose = {\"roll\":roll, \"pitch\":pitch, \"yaw\":yaw}        \n",
    "        \n",
    "    def gen_d_cam(self, target_dist):\n",
    "        condition = self.condition\n",
    "        if condition == \"focus\":\n",
    "            d_cam = gen_error(self.nframes, mag=5, max_dt = 50) + target_dist\n",
    "        elif condition == \"no_interest\":\n",
    "            # maximum -50% ~ 250% error\n",
    "            d_cam = gen_error(self.nframes, mag=target_dist, max_dt = 50) + target_dist * 1.5\n",
    "        self.d_cam = {'d_cam':d_cam}\n",
    "        \n",
    "    def gen_d_disp(self, target_dist):\n",
    "        condition = self.condition\n",
    "        if condition == \"focus\":\n",
    "            d_disp = gen_error(self.nframes, mag=5, max_dt = 50) + target_dist\n",
    "        elif condition == \"no_interest\":\n",
    "            # maximum -50% ~ 250% error\n",
    "            d_disp = gen_error(self.nframes, mag=target_dist, max_dt = 50) + target_dist * 1.5\n",
    "        self.d_disp = {'d_disp':d_disp}\n",
    "            \n",
    "    def gen_gaze_eye_trakcer(self):\n",
    "        \"\"\"generate both eye tracker target and gaze pose.\n",
    "            eye tracker in x,y coords.\n",
    "            gaze pose in roll, pitch, yaw\"\"\"\n",
    "        condition = self.condition\n",
    "        if condition == \"focus\":\n",
    "            key_point_x_t, key_point_y_t = gen_focus_xy()\n",
    "            key_point_frames_x = rescale_duration(key_point_x_t, self.nframes)\n",
    "            key_point_frames_y = rescale_duration(key_point_y_t, self.nframes)\n",
    "            self.gaze_x = interpolate_pos(key_point_x, key_point_frames_x, self.nframes, err_mag = 30)\n",
    "            self.gaze_y = interpolate_pos(key_point_y, key_point_frames_y, self.nframes, err_mag = 20)\n",
    "            point_x = interpolate_pos(key_point_x, key_point_frames_x, self.nframes, err_mag = 0)\n",
    "            point_y = interpolate_pos(key_point_y, key_point_frames_y, self.nframes, err_mag = 0)\n",
    "        elif condition == \"no_interest\":\n",
    "            point_x, point_y = gen_no_interest_xy(self.width, self.height, self.nframes)\n",
    "            errx = gen_error(self.nframes, mag=10, max_dt = 50)\n",
    "            erry = gen_error(self.nframes, mag=10, max_dt = 50)\n",
    "            self.gaze_x = np.clip(point_x + errx, 0, self.width) # [0, 1920]\n",
    "            self.gaze_y = np.clip(point_y + erry, 0, self.height) # [0, 1080]\n",
    "\n",
    "        self.point = {'point_x':point_x, 'point_y':point_y}\n",
    "        self.convert_gaze_to_angle() # also need display pose \n",
    "\n",
    "    def save_all(self):\n",
    "        datasets = ['point', 'head', 'disp_pose', 'gaze', 'd_cam', 'd_disp']\n",
    "        field = \"all\"\n",
    "        for dd in datasets:\n",
    "            fn = f\"{self.wdir}_{dd}.csv\"\n",
    "            self._save_csv(fn, dd, field)\n",
    "        \n",
    "    def _save_csv(self, fn, ds, fields):\n",
    "        dataset = getattr(self, ds)\n",
    "        if fields == 'all':\n",
    "            fields = list(dataset.keys())\n",
    "        header = \",  \"\n",
    "        header = f\"[{ds}] \" + header.join(fields)\n",
    "        #print(fields)\n",
    "        #print(dataset)\n",
    "        #print([dataset[ff] for ff in fields])\n",
    "        np.savetxt(fn, np.transpose([dataset[ff] for ff in fields]), header=header, delimiter=\",\")\n",
    "        #print(\"saving done\")\n",
    "        \n",
    "    def convert_gaze_to_angle(self):\n",
    "        \"\"\"\n",
    "        assume roll == 0 (눈과 카메라가 수평)\n",
    "        \"\"\"\n",
    "        \n",
    "        xcen = 0.5 # position of eyes w.r.t. the display\n",
    "        ycen = 0.5\n",
    "        xx = (self.gaze_x/self.width - xcen) * self.disp_size_x\n",
    "        yy = (self.gaze_y/self.height - ycen) * self.disp_size_y\n",
    "        \n",
    "        roll = np.zeros(self.nframes)\n",
    "        pitch = np.rad2deg(np.arctan(xx/self.d_disp['d_disp'])) # incorrect!\n",
    "        yaw = np.rad2deg(np.arctan(yy/self.d_disp['d_disp']))\n",
    "        \n",
    "        self.gaze = {\"roll\":roll, \"pitch\":pitch, \"yaw\":yaw}\n",
    "        "
   ]
  },
  {
   "cell_type": "code",
   "execution_count": 436,
   "id": "46444d64",
   "metadata": {},
   "outputs": [],
   "source": [
    "import cv2\n",
    "\n",
    "# count the number of frames of the video\n",
    "conditions = [\"집중\", \"태만\"]\n",
    "cond_map = {\"집중\":\"focus\", \"태만\":\"no_interest\"}\n",
    "distances = [30, 50, 80] #this is NOT supposed to be constant throughout a clip.\n",
    "\n",
    "vid_dir = \"/home/hoseung/Dropbox/DeepInsight/2022/NIA/예제/FHD/\"\n",
    "for cond in conditions:\n",
    "    for dist in distances:\n",
    "        fn_vid = vid_dir + f\"핸드폰_{cond}_{dist}cm_FHD.mp4\"\n",
    "        cap = cv2.VideoCapture(fn_vid)\n",
    "        nframes = int(cap.get(cv2.CAP_PROP_FRAME_COUNT))\n",
    "        fake = Fake_generator(fn_vid.split('.')[-2], nframes,1920, 1080, condition = cond_map[cond])\n",
    "        fake.gen_d_disp(dist)\n",
    "        fake.gen_d_cam(dist)\n",
    "        fake.gen_head()\n",
    "        fake.gen_pose_d()\n",
    "        fake.gen_gaze_eye_trakcer()\n",
    "        fake.save_all()"
   ]
  },
  {
   "cell_type": "code",
   "execution_count": 404,
   "id": "b87ffa2e",
   "metadata": {},
   "outputs": [
    {
     "data": {
      "image/png": "[encoded data removed]",
      "text/plain": [
       "<Figure size 432x288 with 1 Axes>"
      ]
     },
     "metadata": {
      "needs_background": "light"
     },
     "output_type": "display_data"
    }
   ],
   "source": [
    "fake = Fake_generator('./', 500, 1920, 1080, condition='no_interest')\n",
    "\n",
    "fake.gen_d_disp(80)\n",
    "fake.gen_d_cam(80)\n",
    "fake.gen_gaze_eye_trakcer()\n",
    "fake.gen_head()\n",
    "fake.gen_pose_d()\n",
    "fake.gen_gaze_eye_trakcer()\n",
    "\n",
    "fig, ax = plt.subplots()\n",
    "ax.plot(fake.point['point_x'], fake.point['point_y'], label=\"eye-tracker\")\n",
    "ax.plot(fake.gaze_x,  fake.gaze_y, label=\"gaze\")\n",
    "ax.legend()\n",
    "plt.show()"
   ]
  },
  {
   "cell_type": "code",
   "execution_count": 376,
   "id": "a50d6321",
   "metadata": {},
   "outputs": [
    {
     "data": {
      "text/plain": [
       "dict_keys(['roll', 'pitch', 'yaw'])"
      ]
     },
     "execution_count": 376,
     "metadata": {},
     "output_type": "execute_result"
    }
   ],
   "source": [
    "fake.disp_pose.keys()"
   ]
  },
  {
   "cell_type": "code",
   "execution_count": 47,
   "id": "8fcf8936",
   "metadata": {},
   "outputs": [
    {
     "data": {
      "text/plain": [
       "'/home/hoseung/Dropbox/DeepInsight/2022/NIA/예제/FHD/핸드폰_태만_80cm_FHD.mp4'"
      ]
     },
     "execution_count": 47,
     "metadata": {},
     "output_type": "execute_result"
    }
   ],
   "source": [
    "# 저장만 하면 됨... \n",
    "# 파일 이름 확인하고 \n",
    "# 포멧 확인해서 \n",
    "# CSV로. "
   ]
  },
  {
   "cell_type": "code",
   "execution_count": 397,
   "id": "69d414d7",
   "metadata": {},
   "outputs": [],
   "source": []
  }
 ],
 "metadata": {
  "kernelspec": {
   "display_name": "Python 3 (ipykernel)",
   "language": "python",
   "name": "python3"
  },
  "language_info": {
   "codemirror_mode": {
    "name": "ipython",
    "version": 3
   },
   "file_extension": ".py",
   "mimetype": "text/x-python",
   "name": "python",
   "nbconvert_exporter": "python",
   "pygments_lexer": "ipython3",
   "version": "3.9.7"
  }
 },
 "nbformat": 4,
 "nbformat_minor": 5
}
