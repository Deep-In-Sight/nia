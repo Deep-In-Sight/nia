{
 "cells": [
  {
   "cell_type": "code",
   "execution_count": 1,
   "id": "015ff8d6",
   "metadata": {},
   "outputs": [],
   "source": [
    "import numpy as np\n",
    "from glob import glob"
   ]
  },
  {
   "cell_type": "code",
   "execution_count": 2,
   "id": "7bf01698",
   "metadata": {},
   "outputs": [],
   "source": [
    "# NAS not working..\n",
    "dir_nia = '/media/di/data/NIA2022/' # local"
   ]
  },
  {
   "cell_type": "code",
   "execution_count": 3,
   "id": "ae0bf0b0",
   "metadata": {},
   "outputs": [],
   "source": [
    "flist = glob('/home/di/Work/data/NIA2022/08??/processing/S1/0??/T1/*/RGB/*.mp4')"
   ]
  },
  {
   "cell_type": "code",
   "execution_count": 4,
   "id": "ff41dfe9",
   "metadata": {},
   "outputs": [
    {
     "data": {
      "text/plain": [
       "11299"
      ]
     },
     "execution_count": 4,
     "metadata": {},
     "output_type": "execute_result"
    }
   ],
   "source": [
    "len(flist)"
   ]
  },
  {
   "cell_type": "code",
   "execution_count": null,
   "id": "26c0de07",
   "metadata": {},
   "outputs": [],
   "source": []
  }
 ],
 "metadata": {
  "kernelspec": {
   "display_name": "Python 3 (ipykernel)",
   "language": "python",
   "name": "python3"
  },
  "language_info": {
   "codemirror_mode": {
    "name": "ipython",
    "version": 3
   },
   "file_extension": ".py",
   "mimetype": "text/x-python",
   "name": "python",
   "nbconvert_exporter": "python",
   "pygments_lexer": "ipython3",
   "version": "3.10.4"
  }
 },
 "nbformat": 4,
 "nbformat_minor": 5
}
