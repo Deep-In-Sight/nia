{
 "cells": [
  {
   "cell_type": "code",
   "execution_count": 50,
   "id": "f27d049a",
   "metadata": {},
   "outputs": [
    {
     "name": "stdout",
     "output_type": "stream",
     "text": [
      "The autoreload extension is already loaded. To reload it, use:\n",
      "  %reload_ext autoreload\n"
     ]
    }
   ],
   "source": [
    "%load_ext autoreload\n",
    "%autoreload 2\n",
    "\n",
    "import numpy as np\n",
    "import json\n",
    "from glob import glob"
   ]
  },
  {
   "cell_type": "code",
   "execution_count": 54,
   "id": "5ab9396f",
   "metadata": {},
   "outputs": [],
   "source": [
    "def remove_a_key(mydict, remove_key, remove_val=\"\"):\n",
    "    new = []\n",
    "    for (key, val) in mydict.items():\n",
    "        if key != remove_key or val != remove_val:\n",
    "            new.append((key, val))\n",
    "    return dict(new)"
   ]
  },
  {
   "cell_type": "code",
   "execution_count": 55,
   "id": "b49cf9ef",
   "metadata": {},
   "outputs": [],
   "source": [
    "meta = json.load(open(\"./scripts/001.json\"))"
   ]
  },
  {
   "cell_type": "code",
   "execution_count": 56,
   "id": "e32e2d30",
   "metadata": {
    "scrolled": true
   },
   "outputs": [],
   "source": [
    "flist = meta[\"filelist\"]"
   ]
  },
  {
   "cell_type": "code",
   "execution_count": 57,
   "id": "c4c40e43",
   "metadata": {},
   "outputs": [],
   "source": [
    "# 원천 metadata = 원시 metadata - filelist\n",
    "mm = dict([(key, val) for (key, val) in meta.items() if key != 'filelist'])"
   ]
  },
  {
   "cell_type": "code",
   "execution_count": 58,
   "id": "e92d1acd",
   "metadata": {
    "scrolled": true
   },
   "outputs": [],
   "source": [
    "dir_csv = \"./scripts/\"\n",
    "for ff in flist:\n",
    "    tag = ff.split(\".mp4\")[0].split(\"_\")\n",
    "    tag = \"_\".join(tag[1:])\n",
    "\n",
    "    fn_json = glob(f\"../원사이클_산출물/*_rgb_{tag}_????.json\")\n",
    "    fn_json.sort()\n",
    "\n",
    "    cam = np.genfromtxt(dir_csv + ff.replace(\".mp4\", \"_point.csv\"), delimiter=\",\", skip_header=1)\n",
    "    point_x = cam[:,2]\n",
    "    point_y = cam[:,3]\n",
    "    \n",
    "    for fn in fn_json:\n",
    "        anno = json.load(open(fn,\"r\"))\n",
    "\n",
    "        frame = int(anno[\"Annotations\"]['image']['id'])\n",
    "        anno[\"Metadata\"] = mm\n",
    "        \n",
    "        # width & height -> int\n",
    "        anno[\"Annotations\"][\"image\"][\"width\"] = int(anno[\"Annotations\"][\"image\"][\"width\"])\n",
    "        anno[\"Annotations\"][\"image\"][\"height\"] = int(anno[\"Annotations\"][\"image\"][\"height\"])\n",
    "        \n",
    "        # REMOVE UPDATED\n",
    "        anno[\"Metadata\"]['task'] = remove_a_key(anno[\"Metadata\"]['task'], \"updated\", \"\")\n",
    "        anno[\"Annotations\"]['task'] = remove_a_key(anno[\"Metadata\"]['task'], \"updated\", \"\")\n",
    "\n",
    "        # add point to pose\n",
    "        pose = anno[\"Annotations\"][\"pose\"]\n",
    "        pose.update({\"point\":[int(point_x[frame-1]), int(point_y[frame-1])]})\n",
    "\n",
    "        with open(fn, \"w\") as f:\n",
    "            json.dump(anno, f)#, indent=2)"
   ]
  }
 ],
 "metadata": {
  "kernelspec": {
   "display_name": "Python 3 (ipykernel)",
   "language": "python",
   "name": "python3"
  },
  "language_info": {
   "codemirror_mode": {
    "name": "ipython",
    "version": 3
   },
   "file_extension": ".py",
   "mimetype": "text/x-python",
   "name": "python",
   "nbconvert_exporter": "python",
   "pygments_lexer": "ipython3",
   "version": "3.10.4"
  }
 },
 "nbformat": 4,
 "nbformat_minor": 5
}
