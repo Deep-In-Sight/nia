{
 "cells": [
  {
   "cell_type": "code",
   "execution_count": 1,
   "id": "f24d2ed6",
   "metadata": {},
   "outputs": [],
   "source": [
    "from glob import glob \n",
    "import csv"
   ]
  },
  {
   "cell_type": "code",
   "execution_count": 4,
   "id": "aaf99bd8",
   "metadata": {},
   "outputs": [],
   "source": [
    "nia_dir = \"/run/user/1000/gvfs/sftp:host=pcndev.co.kr,port=10200/AIDATA/\""
   ]
  },
  {
   "cell_type": "code",
   "execution_count": 5,
   "id": "4a1d457f",
   "metadata": {},
   "outputs": [],
   "source": [
    "flist = glob(nia_dir+'0[8,9]??/processing/S1/0??/T1/*/RGB/*.mp4')"
   ]
  },
  {
   "cell_type": "code",
   "execution_count": 8,
   "id": "365c5315",
   "metadata": {},
   "outputs": [],
   "source": [
    "with open(\"RGB_clips.txt\", \"w\") as f:\n",
    "    for fn in flist:\n",
    "        f.write(f\"{fn}\\n\")"
   ]
  },
  {
   "cell_type": "code",
   "execution_count": 6,
   "id": "d36f9f4a",
   "metadata": {},
   "outputs": [
    {
     "data": {
      "text/plain": [
       "24318"
      ]
     },
     "execution_count": 6,
     "metadata": {},
     "output_type": "execute_result"
    }
   ],
   "source": [
    "len(flist)"
   ]
  },
  {
   "cell_type": "code",
   "execution_count": 7,
   "id": "9cd60787",
   "metadata": {},
   "outputs": [],
   "source": [
    "flist_ir = glob(nia_dir+'0[8,9]??/processing/S1/0??/T1/*/IR/*.mp4')"
   ]
  },
  {
   "cell_type": "code",
   "execution_count": 9,
   "id": "61e8bbb6",
   "metadata": {},
   "outputs": [],
   "source": [
    "with open(\"IR_clips.txt\", \"w\") as f:\n",
    "    for fn in flist_ir:\n",
    "        f.write(f\"{fn}\\n\")"
   ]
  },
  {
   "cell_type": "code",
   "execution_count": 10,
   "id": "b3b4c1dc",
   "metadata": {},
   "outputs": [
    {
     "data": {
      "text/plain": [
       "'/home/di/Work/nia/nia'"
      ]
     },
     "execution_count": 10,
     "metadata": {},
     "output_type": "execute_result"
    }
   ],
   "source": [
    "pwd"
   ]
  },
  {
   "cell_type": "code",
   "execution_count": null,
   "id": "01965b8b",
   "metadata": {},
   "outputs": [],
   "source": []
  }
 ],
 "metadata": {
  "kernelspec": {
   "display_name": "Python 3 (ipykernel)",
   "language": "python",
   "name": "python3"
  },
  "language_info": {
   "codemirror_mode": {
    "name": "ipython",
    "version": 3
   },
   "file_extension": ".py",
   "mimetype": "text/x-python",
   "name": "python",
   "nbconvert_exporter": "python",
   "pygments_lexer": "ipython3",
   "version": "3.10.4"
  }
 },
 "nbformat": 4,
 "nbformat_minor": 5
}
