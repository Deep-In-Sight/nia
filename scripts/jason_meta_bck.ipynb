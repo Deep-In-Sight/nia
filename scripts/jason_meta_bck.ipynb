{
 "cells": [
  {
   "cell_type": "code",
   "execution_count": 1,
   "id": "58d60484",
   "metadata": {},
   "outputs": [],
   "source": [
    "%load_ext autoreload\n",
    "%autoreload 2"
   ]
  },
  {
   "cell_type": "code",
   "execution_count": 2,
   "id": "3de1e112",
   "metadata": {},
   "outputs": [],
   "source": [
    "import matplotlib.pyplot as plt \n",
    "import numpy as np\n",
    "from functools import partial\n",
    "import json\n",
    "from glob import glob\n",
    "\n",
    "import cv2\n",
    "import os\n",
    "\n",
    "#import nia22\n",
    "#from nia22.generator import *"
   ]
  },
  {
   "cell_type": "code",
   "execution_count": 50,
   "id": "b83b87d9",
   "metadata": {},
   "outputs": [
    {
     "data": {
      "text/plain": [
       "'/home/hoseung/Work/NIA/nia/scripts'"
      ]
     },
     "execution_count": 50,
     "metadata": {},
     "output_type": "execute_result"
    }
   ],
   "source": [
    "pwd"
   ]
  },
  {
   "cell_type": "code",
   "execution_count": 3,
   "id": "93c12e03",
   "metadata": {},
   "outputs": [],
   "source": [
    "import csv"
   ]
  },
  {
   "cell_type": "code",
   "execution_count": 6,
   "id": "bbd94fd1",
   "metadata": {},
   "outputs": [],
   "source": [
    "csv.reader?"
   ]
  },
  {
   "cell_type": "code",
   "execution_count": 30,
   "id": "b4d7fcdc",
   "metadata": {},
   "outputs": [],
   "source": [
    "cr = csv.reader(open(\"../test.csv\"))"
   ]
  },
  {
   "cell_type": "code",
   "execution_count": 14,
   "id": "6392dd79",
   "metadata": {},
   "outputs": [],
   "source": [
    "ll = [1,2,3,4]"
   ]
  },
  {
   "cell_type": "code",
   "execution_count": 16,
   "id": "2ba0fb5b",
   "metadata": {},
   "outputs": [
    {
     "data": {
      "text/plain": [
       "[1, 2, 3, 4]"
      ]
     },
     "execution_count": 16,
     "metadata": {},
     "output_type": "execute_result"
    }
   ],
   "source": [
    "ll"
   ]
  },
  {
   "cell_type": "code",
   "execution_count": 17,
   "id": "f455c7d6",
   "metadata": {},
   "outputs": [
    {
     "data": {
      "text/plain": [
       "<_csv.reader at 0x7f34f921f680>"
      ]
     },
     "execution_count": 17,
     "metadata": {},
     "output_type": "execute_result"
    }
   ],
   "source": [
    "cr"
   ]
  },
  {
   "cell_type": "code",
   "execution_count": 15,
   "id": "feda2286",
   "metadata": {},
   "outputs": [
    {
     "name": "stdout",
     "output_type": "stream",
     "text": [
      "1\n",
      "2\n",
      "3\n",
      "4\n"
     ]
    }
   ],
   "source": [
    "for l in ll:\n",
    "    print(l)"
   ]
  },
  {
   "cell_type": "code",
   "execution_count": 31,
   "id": "6e3afcf6",
   "metadata": {},
   "outputs": [
    {
     "name": "stdout",
     "output_type": "stream",
     "text": [
      "['성명', '피시험자 ID', '의료검사코드', '나이', '안경착용', '마스크착용', '시나리오 수', '촬영날짜', '비고']\n",
      "['김태훈', '1', 'OB001', '27세 (1996년생)', '미착용', '미착용', '453개', '2022-08-02', '']\n",
      "['윤지환', '2', 'OB002', '27세 (1996년생)', '착용', '미착용', '', '2022-08-02', '']\n",
      "['김은서', '3', 'OB003', '20세 (2003년생)', '착용', '미착용', '', '2022-08-03', '']\n",
      "['천정호', '4', 'OB004', '56세 (1967년생)', '미착용', '미착용', '', '2022-08-03', '']\n",
      "['이경희', '5', 'OB005', '50세 (1973년생)', '착용', '미착용', '', '2022-08-04', '']\n",
      "['이수미', '6', 'OB006', '47세 (1976년생) ', '미착용', '미착용', '', '2022-08-04', '']\n",
      "['한민선', '7', 'OB007', '25세 (1998년생) ', '착용', '미착용', '', '2022-08-04', '']\n",
      "['정혜은', '8', 'OB008', '46세 (1977년생)', '미착용', '미착용', '', '2022-08-05', '']\n",
      "['오은숙', '9', 'OB009', '30세 (1993년생) ', '미착용', '미착용', '', '2022-08-08', '']\n",
      "['손현정', '10', 'OB0010', '47세 (1976년생)', '착용', '미착용', '', '2022-08-08', '']\n",
      "['정철호', '11', 'OB0011', '59세 (1964년생)', '착용', '미착용', '', '2022-08-09', '']\n",
      "['심정곤', '12', 'OB0012', '54세 (1969년생) ', '착용', '미착용', '', '2022-08-09', '']\n",
      "['임영준', '13', 'OB0013', '24세(1999년생)', '미착용', '미착용', '', '2022-08-10', '']\n"
     ]
    }
   ],
   "source": [
    "for ll in cr:\n",
    "    print(ll)"
   ]
  },
  {
   "cell_type": "code",
   "execution_count": 32,
   "id": "1d4f183f",
   "metadata": {},
   "outputs": [
    {
     "data": {
      "text/plain": [
       "['임영준', '13', 'OB0013', '24세(1999년생)', '미착용', '미착용', '', '2022-08-10', '']"
      ]
     },
     "execution_count": 32,
     "metadata": {},
     "output_type": "execute_result"
    }
   ],
   "source": [
    "ll"
   ]
  },
  {
   "cell_type": "code",
   "execution_count": 34,
   "id": "ee9c22c8",
   "metadata": {},
   "outputs": [],
   "source": [
    "new_id = ll[1]"
   ]
  },
  {
   "cell_type": "code",
   "execution_count": 35,
   "id": "d3dfc8b0",
   "metadata": {},
   "outputs": [
    {
     "data": {
      "text/plain": [
       "'13'"
      ]
     },
     "execution_count": 35,
     "metadata": {},
     "output_type": "execute_result"
    }
   ],
   "source": [
    "new_id"
   ]
  },
  {
   "cell_type": "code",
   "execution_count": 37,
   "id": "1e5ebfdc",
   "metadata": {},
   "outputs": [],
   "source": [
    "ss = ll[3]"
   ]
  },
  {
   "cell_type": "code",
   "execution_count": null,
   "id": "8092f5ef",
   "metadata": {},
   "outputs": [],
   "source": []
  },
  {
   "cell_type": "code",
   "execution_count": 45,
   "id": "1f65857c",
   "metadata": {},
   "outputs": [
    {
     "data": {
      "text/plain": [
       "'24세(1999년생)'"
      ]
     },
     "execution_count": 45,
     "metadata": {},
     "output_type": "execute_result"
    }
   ],
   "source": [
    "ss"
   ]
  },
  {
   "cell_type": "code",
   "execution_count": 47,
   "id": "502980fa",
   "metadata": {},
   "outputs": [
    {
     "name": "stdout",
     "output_type": "stream",
     "text": [
      "20대\n"
     ]
    }
   ],
   "source": [
    "if ss[0] =='1':\n",
    "    age_string = \"10대\"\n",
    "elif ss[0] =='2':\n",
    "    age_string = \"20대\"    \n",
    "elif ss[0] =='3':\n",
    "    age_string = \"30대\"\n",
    "elif ss[0] =='4':\n",
    "    age_string== \"30대\"\n",
    "elif ss[0] =='5':\n",
    "    age_string = \"30대\"\n",
    "elif ss[0] =='6':\n",
    "    age_string = \"30대\"    \n",
    "else:\n",
    "    print(\"뭔가이상함\")\n",
    "print(age_string)"
   ]
  },
  {
   "cell_type": "code",
   "execution_count": null,
   "id": "f2fc08c2",
   "metadata": {},
   "outputs": [],
   "source": []
  },
  {
   "cell_type": "code",
   "execution_count": 4,
   "id": "5a65d046",
   "metadata": {},
   "outputs": [],
   "source": [
    "def get_converter(field:str):\n",
    "    if field == \"inst\":\n",
    "        keys = [\"S\", \"T\", \"L\", \"V\", \"M\"]\n",
    "    elif field == \"condition\":\n",
    "        keys = [\"F\", \"S\", \"D\", \"A\", \"N\"]\n",
    "    elif field == \"posture\":\n",
    "        keys = [\"S\", \"D\", \"P\", \"L\", \"F\", \n",
    "                \"C\", \"H\", \"E\", \"T\", \"U\"]\n",
    "    else:\n",
    "        raise ValueError(field)\n",
    "\n",
    "    return partial(_concat, keys=keys)\n",
    "\n",
    "def _concat(value, keys=None):\n",
    "    \"\"\"concatenate strings\"\"\"\n",
    "    code =\"\"\n",
    "    for s in keys:\n",
    "        if s in value:\n",
    "            code += s\n",
    "        else:\n",
    "            code += \"X\"\n",
    "    return code\n",
    "\n",
    "# get total file size\n",
    "def get_total_file_size(wdir, pattern):\n",
    "    all_files = glob(wdir+ pattern)\n",
    "    nfiles = len(all_files)\n",
    "    \n",
    "    print(f\"found {nfiles} files\")\n",
    "    \n",
    "    file_sizes_Bytes = [os.path.getsize(cc) for cc in all_files]\n",
    "    tsize_inMB = np.sum(file_sizes_Bytes) / 1024 / 1024\n",
    "    if tsize_inMB > 1024:\n",
    "        return nfiles, f\"{tsize_inMB/1024:.2f}GB\"\n",
    "    else:\n",
    "        return nfiles, f\"{tsize_inMB:.2f}MB\""
   ]
  },
  {
   "cell_type": "code",
   "execution_count": 5,
   "id": "aabd7e72",
   "metadata": {},
   "outputs": [],
   "source": [
    "concat_inst = get_converter(\"inst\")\n",
    "concat_condition = get_converter(\"condition\")\n",
    "concat_posture = get_converter(\"posture\")"
   ]
  },
  {
   "cell_type": "code",
   "execution_count": 6,
   "id": "296aeb21",
   "metadata": {},
   "outputs": [],
   "source": [
    "clip_dir = \"/home/hoseung/Dropbox/DeepInsight/2022/NIA/1Cycle/FHD/done/\"\n",
    "clip_list = glob(clip_dir+\"*.mp4\")\n",
    "clip_list.sort()\n",
    "clip_list_fn = [cl.split(\"/\")[-1] for cl in clip_list]"
   ]
  },
  {
   "cell_type": "markdown",
   "id": "5f952f4f",
   "metadata": {},
   "source": [
    "Eye-tracker, 얼굴 지향각, 시선 각, 카메라-촬영자 거리, 카메라-디스플레이 거리   \n",
    "각각은 영상의 매 프레임마다 측정값이 제공 됨.  \n",
    "\n",
    "이번에는 가짜 값을 만들어냄."
   ]
  },
  {
   "cell_type": "code",
   "execution_count": 7,
   "id": "13139a57",
   "metadata": {},
   "outputs": [],
   "source": [
    "def point_to_degree(xpos, ypos, d_cam, d_disp, ):\n",
    "    \"\"\"transformation이 너무... 많은데..?? \n",
    "    \"\"\""
   ]
  },
  {
   "cell_type": "code",
   "execution_count": 9,
   "id": "46444d64",
   "metadata": {},
   "outputs": [],
   "source": [
    "# count the number of frames of the video\n",
    "conditions = [\"F\", \"S\", \"D\", \"A\", \"N\"]\n",
    "postures = [\"S\", \"D\", \"P\", \"L\", \"F\", \"C\", \"H\", \"E\", \"T\", \"U\"]\n",
    "display = [\"S\", \"T\", \"L\", \"V\", \"M\"]\n",
    "\n",
    "wdir = \"./\"\n",
    "\n",
    "for fn_clip in clip_list:\n",
    "    file_name = fn_clip.split(\"/\")[-1]\n",
    "    display, posture, condition, orientation = file_name.split(\".mp4\")[0].split(\"_\")\n",
    "    cap = cv2.VideoCapture(fn_clip)\n",
    "    if not cap.isOpened():\n",
    "        continue\n",
    "    nframes = int(cap.get(cv2.CAP_PROP_FRAME_COUNT))\n",
    "    #print(display, posture, condition, orientation)\n",
    "    fake = Fake_generator(wdir, nframes, 1920, 1080, display, posture, condition, orientation)\n",
    "    dist = 35 # 정하고 하는거 아님\n",
    "    fake.gen_d_disp(dist)\n",
    "    fake.gen_d_cam(dist)\n",
    "    fake.gen_head()\n",
    "    fake.gen_pose_d()\n",
    "    fake.gen_gaze_eye_trakcer()\n",
    "    fake.save_all()"
   ]
  },
  {
   "cell_type": "markdown",
   "id": "79a9de69",
   "metadata": {},
   "source": [
    "# Save meta data"
   ]
  },
  {
   "cell_type": "code",
   "execution_count": 19,
   "id": "d0960aca",
   "metadata": {},
   "outputs": [
    {
     "name": "stdout",
     "output_type": "stream",
     "text": [
      "found 104 files\n",
      "found 104 files\n",
      "found 104 files\n",
      "found 104 files\n",
      "found 104 files\n",
      "found 104 files\n",
      "found 104 files\n",
      "found 0 files\n"
     ]
    }
   ],
   "source": [
    "now = str(datetime.now())\n",
    "date, hour = now.split(\" \")\n",
    "hour = hour[:-3]\n",
    "\n",
    "## Variables below are to be read from csv file ##\n",
    "username = \"hoseung\"\n",
    "email = \"hschoi@dinsight.ai\"\n",
    "subject = 1\n",
    "medical = \"ABC1\"\n",
    "age = 34\n",
    "glasses = \"no\"\n",
    "cosmetic= \"no\"\n",
    "mask = \"no\"\n",
    "ver  = 2\n",
    "rev = str(0)\n",
    "loc = \"S101\"\n",
    "inst = \"STLVM\"\n",
    "condition = \"FSDAN\"\n",
    "posture = \"SDPLFCHETU\"\n",
    "\n",
    "n_point, tsize_point = get_total_file_size(wdir, \"*point.csv\")\n",
    "n_head, tsize_head = get_total_file_size(wdir, \"*head.csv\")\n",
    "n_gaze, tsize_gaze = get_total_file_size(wdir, \"*gaze.csv\")\n",
    "n_cam, tsize_cam = get_total_file_size(wdir, \"*[V12]_cam.csv\") \n",
    "n_dcam, tsize_d_cam = get_total_file_size(wdir, \"*d_cam.csv\") # was display pose\n",
    "n_disp, tsize_d_disp = get_total_file_size(wdir, \"*d_disp.csv\")\n",
    "n_rgb, tsize_rgb = get_total_file_size(clip_dir, \"*mp4\")\n",
    "n_ir, tsize_ir = get_total_file_size(wdir, \"*ir*.mp4\")\n",
    "######################################\n",
    "\n",
    "x = {\n",
    "    \"id\": {\"subject\":subject, \n",
    "           \"medical\":medical},\n",
    "    \"age\":age, \n",
    "    \"glasses\":glasses, \n",
    "    \"cosmetic\":cosmetic, \n",
    "    \"mask\":mask, \n",
    "    \"ver\":ver, \n",
    "    \"date\":date, \n",
    "    \"loc\":loc, \n",
    "    \"inst\":concat_inst(inst), \n",
    "    \"condition\":concat_condition(condition),\n",
    "    \"posture\":concat_posture(posture),\n",
    "    \"rev\":rev,\n",
    "    \"image\": {\"format\": {\"rgb\": \"mp4\",\"ir\": \"mp4\", \"point\":\"csv\", \"head\":\"csv\", \"gaze\":\"csv\", \"cam\":\"csv\",\n",
    "                         \"d_cam\":\"csv\", \"d_disp\":\"csv\"},\n",
    "                \"spec\":{\"rgb.w\":1920, \"rgb.h\":1080, \"ir.w\":1920, \"ir.h\":1080, \n",
    "                         \"point\":\"yyyy-mm-dd,hh:mm:ss,x,y\",\n",
    "                         \"head\":\"yyyy-mm-dd,hh:mm:ss,deg,deg,deg\",\n",
    "                         \"gaze\":\"yyyy-mm-dd,hh:mm:ss,deg,deg,deg\",\n",
    "                         \"cam\":\"yyyy-mm-dd,hh:mm:ss,deg,deg,deg\",\n",
    "                         \"d_cam\":\"yyyy-mm-dd,hh:mm:ss,cm\",\n",
    "                         \"d_disp\":\"yyyy-mm-dd,hh:mm:ss,cm\"},\n",
    "                \"total_size\":{\"rgb\":tsize_rgb, \"ir\":tsize_ir, \"point\":tsize_point, \"head\":tsize_head,\n",
    "                              \"gaze\":tsize_gaze, \"cam\":tsize_cam, \"d_cam\":tsize_d_cam, \"d_disp\":tsize_d_disp},\n",
    "                \"total_count\":{\"rgb\":n_rgb, \"ir\":n_ir, \"point\":n_point, \"head\":n_head, \"gaze\":n_gaze,\n",
    "                               \"cam\":n_cam, \"d_cam\":n_dcam, \"d_disp\":n_disp}\n",
    "             },\n",
    "    \"task\":{\n",
    "        \"name\":\"NIA_EYE\",\n",
    "        \"created\": date + \", \" + hour, \n",
    "        \"updated\":\"\", \n",
    "        \"username\":username, \n",
    "        \"email\":email},\n",
    "    \"filelist\":clip_list_fn\n",
    "}\n",
    "\n",
    "# Dump json file\n",
    "fn = f\"{subject:03d}.json\"\n",
    "with open(fn, \"w\") as f:\n",
    "    json.dump(x, f, indent=2)"
   ]
  },
  {
   "cell_type": "code",
   "execution_count": null,
   "id": "91a2f60a",
   "metadata": {},
   "outputs": [],
   "source": [
    "1`"
   ]
  }
 ],
 "metadata": {
  "kernelspec": {
   "display_name": "Python 3 (ipykernel)",
   "language": "python",
   "name": "python3"
  },
  "language_info": {
   "codemirror_mode": {
    "name": "ipython",
    "version": 3
   },
   "file_extension": ".py",
   "mimetype": "text/x-python",
   "name": "python",
   "nbconvert_exporter": "python",
   "pygments_lexer": "ipython3",
   "version": "3.10.4"
  }
 },
 "nbformat": 4,
 "nbformat_minor": 5
}
