{
 "cells": [
  {
   "cell_type": "code",
   "execution_count": 2,
   "id": "58d60484",
   "metadata": {},
   "outputs": [],
   "source": [
    "%load_ext autoreload\n",
    "%autoreload 2"
   ]
  },
  {
   "cell_type": "code",
   "execution_count": 3,
   "id": "3de1e112",
   "metadata": {},
   "outputs": [],
   "source": [
    "import matplotlib.pyplot as plt \n",
    "import numpy as np\n",
    "from scipy import interpolate\n",
    "from functools import partial\n",
    "import json\n",
    "from glob import glob\n",
    "\n",
    "import cv2\n",
    "import os\n",
    "\n",
    "import nia22\n",
    "from nia22.generator import *"
   ]
  },
  {
   "cell_type": "code",
   "execution_count": 4,
   "id": "5a65d046",
   "metadata": {},
   "outputs": [],
   "source": [
    "def get_converter(field:str):\n",
    "    if field == \"inst\":\n",
    "        keys = [\"S\", \"T\", \"L\", \"V\", \"M\"]\n",
    "    elif field == \"condition\":\n",
    "        keys = [\"F\", \"S\", \"D\", \"A\", \"N\"]\n",
    "    elif field == \"posture\":\n",
    "        keys = [\"S\", \"D\", \"P\", \"L\", \"F\", \n",
    "                \"C\", \"H\", \"E\", \"T\", \"U\"]\n",
    "    else:\n",
    "        raise ValueError(field)\n",
    "\n",
    "    return partial(_concat, keys=keys)\n",
    "\n",
    "def _concat(value, keys=None):\n",
    "    \"\"\"concatenate strings\"\"\"\n",
    "    code =\"\"\n",
    "    for s in keys:\n",
    "        if s in value:\n",
    "            code += s\n",
    "        else:\n",
    "            code += \"X\"\n",
    "    return code\n",
    "\n",
    "# get total file size\n",
    "def get_total_file_size(wdir, pattern):\n",
    "    all_files = glob(wdir+ pattern)\n",
    "    nfiles = len(all_files)\n",
    "    \n",
    "    print(f\"found {nfiles} files\")\n",
    "    \n",
    "    file_sizes_Bytes = [os.path.getsize(cc) for cc in all_files]\n",
    "    tsize_inMB = np.sum(file_sizes_Bytes) / 1024 / 1024\n",
    "    if tsize_inMB > 1024:\n",
    "        return nfiles, f\"{tsize_inMB/1024:.2f}GB\"\n",
    "    else:\n",
    "        return nfiles, f\"{tsize_inMB:.2f}MB\""
   ]
  },
  {
   "cell_type": "code",
   "execution_count": 5,
   "id": "aabd7e72",
   "metadata": {},
   "outputs": [],
   "source": [
    "concat_inst = get_converter(\"inst\")\n",
    "concat_condition = get_converter(\"condition\")\n",
    "concat_posture = get_converter(\"posture\")"
   ]
  },
  {
   "cell_type": "code",
   "execution_count": 6,
   "id": "296aeb21",
   "metadata": {},
   "outputs": [],
   "source": [
    "clip_dir = \"/home/hoseung/Dropbox/DeepInsight/2022/NIA/1Cycle/FHD/done/\"\n",
    "clip_list = glob(clip_dir+\"*.mp4\")\n",
    "clip_list.sort()\n",
    "clip_list_fn = [cl.split(\"/\")[-1] for cl in clip_list]"
   ]
  },
  {
   "cell_type": "markdown",
   "id": "5f952f4f",
   "metadata": {},
   "source": [
    "Eye-tracker, 얼굴 지향각, 시선 각, 카메라-촬영자 거리, 카메라-디스플레이 거리   \n",
    "각각은 영상의 매 프레임마다 측정값이 제공 됨.  \n",
    "\n",
    "이번에는 가짜 값을 만들어냄."
   ]
  },
  {
   "cell_type": "code",
   "execution_count": 7,
   "id": "13139a57",
   "metadata": {},
   "outputs": [],
   "source": [
    "def point_to_degree(xpos, ypos, d_cam, d_disp, ):\n",
    "    \"\"\"transformation이 너무... 많은데..?? \n",
    "    \"\"\""
   ]
  },
  {
   "cell_type": "code",
   "execution_count": 9,
   "id": "46444d64",
   "metadata": {},
   "outputs": [],
   "source": [
    "# count the number of frames of the video\n",
    "conditions = [\"F\", \"S\", \"D\", \"A\", \"N\"]\n",
    "postures = [\"S\", \"D\", \"P\", \"L\", \"F\", \"C\", \"H\", \"E\", \"T\", \"U\"]\n",
    "display = [\"S\", \"T\", \"L\", \"V\", \"M\"]\n",
    "\n",
    "wdir = \"./\"\n",
    "\n",
    "for fn_clip in clip_list:\n",
    "    file_name = fn_clip.split(\"/\")[-1]\n",
    "    display, posture, condition, orientation = file_name.split(\".mp4\")[0].split(\"_\")\n",
    "    cap = cv2.VideoCapture(fn_clip)\n",
    "    if not cap.isOpened():\n",
    "        continue\n",
    "    nframes = int(cap.get(cv2.CAP_PROP_FRAME_COUNT))\n",
    "    #print(display, posture, condition, orientation)\n",
    "    fake = Fake_generator(wdir, nframes, 1920, 1080, display, posture, condition, orientation)\n",
    "    dist = 35 # 정하고 하는거 아님\n",
    "    fake.gen_d_disp(dist)\n",
    "    fake.gen_d_cam(dist)\n",
    "    fake.gen_head()\n",
    "    fake.gen_pose_d()\n",
    "    fake.gen_gaze_eye_trakcer()\n",
    "    fake.save_all()"
   ]
  },
  {
   "cell_type": "markdown",
   "id": "79a9de69",
   "metadata": {},
   "source": [
    "# Save meta data"
   ]
  },
  {
   "cell_type": "code",
   "execution_count": 19,
   "id": "d0960aca",
   "metadata": {},
   "outputs": [
    {
     "name": "stdout",
     "output_type": "stream",
     "text": [
      "found 104 files\n",
      "found 104 files\n",
      "found 104 files\n",
      "found 104 files\n",
      "found 104 files\n",
      "found 104 files\n",
      "found 104 files\n",
      "found 0 files\n"
     ]
    }
   ],
   "source": [
    "now = str(datetime.now())\n",
    "date, hour = now.split(\" \")\n",
    "hour = hour[:-3]\n",
    "\n",
    "## Variables below are to be read from csv file ##\n",
    "username = \"hoseung\"\n",
    "email = \"hschoi@dinsight.ai\"\n",
    "subject = 1\n",
    "medical = \"ABC1\"\n",
    "age = 34\n",
    "glasses = \"no\"\n",
    "cosmetic= \"no\"\n",
    "mask = \"no\"\n",
    "ver  = 2\n",
    "rev = str(0)\n",
    "loc = \"S101\"\n",
    "inst = \"STLVM\"\n",
    "condition = \"FSDAN\"\n",
    "posture = \"SDPLFCHETU\"\n",
    "\n",
    "n_point, tsize_point = get_total_file_size(wdir, \"*point.csv\")\n",
    "n_head, tsize_head = get_total_file_size(wdir, \"*head.csv\")\n",
    "n_gaze, tsize_gaze = get_total_file_size(wdir, \"*gaze.csv\")\n",
    "n_cam, tsize_cam = get_total_file_size(wdir, \"*[V12]_cam.csv\") \n",
    "n_dcam, tsize_d_cam = get_total_file_size(wdir, \"*d_cam.csv\") # was display pose\n",
    "n_disp, tsize_d_disp = get_total_file_size(wdir, \"*d_disp.csv\")\n",
    "n_rgb, tsize_rgb = get_total_file_size(clip_dir, \"*mp4\")\n",
    "n_ir, tsize_ir = get_total_file_size(wdir, \"*ir*.mp4\")\n",
    "######################################\n",
    "\n",
    "x = {\n",
    "    \"id\": {\"subject\":subject, \"medical\":medical},\n",
    "    \"age\":age, \n",
    "    \"glasses\":glasses, \n",
    "    \"cosmetic\":cosmetic, \n",
    "    \"mask\":mask, \n",
    "    \"ver\":ver, \n",
    "    \"date\":date, \n",
    "    \"loc\":loc, \n",
    "    \"inst\":concat_inst(inst), \n",
    "    \"condition\":concat_condition(condition),\n",
    "    \"posture\":concat_posture(posture),\n",
    "    \"rev\":rev,\n",
    "    \"image\": {\"format\": {\"rgb\": \"mp4\",\"ir\": \"mp4\", \"point\":\"csv\", \"head\":\"csv\", \"gaze\":\"csv\", \"cam\":\"csv\",\n",
    "                         \"d_cam\":\"csv\", \"d_disp\":\"csv\"},\n",
    "                \"spec\":{\"rgb.w\":1920, \"rgb.h\":1080, \"ir.w\":1920, \"ir.h\":1080, \n",
    "                         \"point\":\"yyyy-mm-dd,hh:mm:ss,x,y\",\n",
    "                         \"head\":\"yyyy-mm-dd,hh:mm:ss,deg,deg,deg\",\n",
    "                         \"gaze\":\"yyyy-mm-dd,hh:mm:ss,deg,deg,deg\",\n",
    "                         \"cam\":\"yyyy-mm-dd,hh:mm:ss,deg,deg,deg\",\n",
    "                         \"d_cam\":\"yyyy-mm-dd,hh:mm:ss,cm\",\n",
    "                         \"d_disp\":\"yyyy-mm-dd,hh:mm:ss,cm\"},\n",
    "                \"total_size\":{\"rgb\":tsize_rgb, \"ir\":tsize_ir, \"point\":tsize_point, \"head\":tsize_head,\n",
    "                              \"gaze\":tsize_gaze, \"cam\":tsize_cam, \"d_cam\":tsize_d_cam, \"d_disp\":tsize_d_disp},\n",
    "                \"total_count\":{\"rgb\":n_rgb, \"ir\":n_ir, \"point\":n_point, \"head\":n_head, \"gaze\":n_gaze,\n",
    "                               \"cam\":n_cam, \"d_cam\":n_dcam, \"d_disp\":n_disp}\n",
    "             },\n",
    "    \"task\":{\n",
    "        \"name\":\"NIA_EYE\",\n",
    "        \"created\": date + \", \" + hour, \n",
    "        \"updated\":\"\", \n",
    "        \"username\":username, \n",
    "        \"email\":email},\n",
    "    \"filelist\":clip_list_fn\n",
    "}\n",
    "\n",
    "# Dump json file\n",
    "fn = f\"{subject:03d}.json\"\n",
    "with open(fn, \"w\") as f:\n",
    "    json.dump(x, f, indent=2)"
   ]
  },
  {
   "cell_type": "code",
   "execution_count": null,
   "id": "91a2f60a",
   "metadata": {},
   "outputs": [],
   "source": [
    "1`"
   ]
  }
 ],
 "metadata": {
  "kernelspec": {
   "display_name": "Python 3 (ipykernel)",
   "language": "python",
   "name": "python3"
  },
  "language_info": {
   "codemirror_mode": {
    "name": "ipython",
    "version": 3
   },
   "file_extension": ".py",
   "mimetype": "text/x-python",
   "name": "python",
   "nbconvert_exporter": "python",
   "pygments_lexer": "ipython3",
   "version": "3.10.4"
  }
 },
 "nbformat": 4,
 "nbformat_minor": 5
}
