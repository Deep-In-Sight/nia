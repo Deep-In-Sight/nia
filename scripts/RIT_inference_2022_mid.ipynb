{
 "cells": [
  {
   "cell_type": "code",
   "execution_count": 1,
   "id": "f5461172",
   "metadata": {},
   "outputs": [],
   "source": [
    "%load_ext autoreload\n",
    "%autoreload 2"
   ]
  },
  {
   "cell_type": "code",
   "execution_count": 2,
   "id": "8d0db585",
   "metadata": {},
   "outputs": [],
   "source": [
    "import numpy as np\n",
    "import os\n",
    "from tqdm import tqdm\n",
    "import matplotlib.pyplot as plt\n",
    "import torch\n",
    "import json\n",
    "\n",
    "\n",
    "import ritnet\n",
    "from ritnet.dataset import IrisDataset, transform\n",
    "from torch.utils.data import DataLoader \n",
    "from ritnet.opt import parse_args\n",
    "from ritnet.models import model_dict\n",
    "from ritnet.utils import get_predictions\n"
   ]
  },
  {
   "cell_type": "code",
   "execution_count": 3,
   "id": "b5f0053c",
   "metadata": {},
   "outputs": [],
   "source": [
    "#os.environ[\"CUDA_DEVICE_ORDER\"]=\"PCI_BUS_ID\"   \n",
    "os.environ[\"CUDA_VISIBLE_DEVICES\"]=\"0\"\n",
    "\n",
    "if torch.cuda.is_available():\n",
    "    device=torch.device(\"cuda\")\n",
    "else:\n",
    "    device=torch.device(\"cpu\")"
   ]
  },
  {
   "cell_type": "code",
   "execution_count": 4,
   "id": "a8309ea9",
   "metadata": {},
   "outputs": [],
   "source": [
    "device='cpu'"
   ]
  },
  {
   "cell_type": "code",
   "execution_count": 5,
   "id": "32f0bb1b",
   "metadata": {},
   "outputs": [],
   "source": [
    "model = model_dict['densenet']\n",
    "model  = model.to(device)\n",
    "filename = '../../RITnet/best_model.pkl'"
   ]
  },
  {
   "cell_type": "code",
   "execution_count": 6,
   "id": "72c3ef4f",
   "metadata": {},
   "outputs": [
    {
     "name": "stdout",
     "output_type": "stream",
     "text": [
      "model load ok!\n"
     ]
    }
   ],
   "source": [
    "if not os.path.exists(filename):\n",
    "    print(\"model path not found !!!\")\n",
    "else:\n",
    "    print('model load ok!')"
   ]
  },
  {
   "cell_type": "code",
   "execution_count": 7,
   "id": "80a07d73",
   "metadata": {
    "scrolled": true
   },
   "outputs": [
    {
     "data": {
      "text/plain": [
       "DenseNet2D(\n",
       "  (down_block1): DenseNet2D_down_block(\n",
       "    (conv1): Conv2d(1, 32, kernel_size=(3, 3), stride=(1, 1), padding=(1, 1))\n",
       "    (conv21): Conv2d(33, 32, kernel_size=(1, 1), stride=(1, 1))\n",
       "    (conv22): Conv2d(32, 32, kernel_size=(3, 3), stride=(1, 1), padding=(1, 1))\n",
       "    (conv31): Conv2d(65, 32, kernel_size=(1, 1), stride=(1, 1))\n",
       "    (conv32): Conv2d(32, 32, kernel_size=(3, 3), stride=(1, 1), padding=(1, 1))\n",
       "    (max_pool): AvgPool2d(kernel_size=None, stride=None, padding=0)\n",
       "    (relu): LeakyReLU(negative_slope=0.01)\n",
       "    (dropout1): Dropout(p=0.2, inplace=False)\n",
       "    (dropout2): Dropout(p=0.2, inplace=False)\n",
       "    (dropout3): Dropout(p=0.2, inplace=False)\n",
       "    (bn): BatchNorm2d(32, eps=1e-05, momentum=0.1, affine=True, track_running_stats=True)\n",
       "  )\n",
       "  (down_block2): DenseNet2D_down_block(\n",
       "    (conv1): Conv2d(32, 32, kernel_size=(3, 3), stride=(1, 1), padding=(1, 1))\n",
       "    (conv21): Conv2d(64, 32, kernel_size=(1, 1), stride=(1, 1))\n",
       "    (conv22): Conv2d(32, 32, kernel_size=(3, 3), stride=(1, 1), padding=(1, 1))\n",
       "    (conv31): Conv2d(96, 32, kernel_size=(1, 1), stride=(1, 1))\n",
       "    (conv32): Conv2d(32, 32, kernel_size=(3, 3), stride=(1, 1), padding=(1, 1))\n",
       "    (max_pool): AvgPool2d(kernel_size=(2, 2), stride=(2, 2), padding=0)\n",
       "    (relu): LeakyReLU(negative_slope=0.01)\n",
       "    (dropout1): Dropout(p=0.2, inplace=False)\n",
       "    (dropout2): Dropout(p=0.2, inplace=False)\n",
       "    (dropout3): Dropout(p=0.2, inplace=False)\n",
       "    (bn): BatchNorm2d(32, eps=1e-05, momentum=0.1, affine=True, track_running_stats=True)\n",
       "  )\n",
       "  (down_block3): DenseNet2D_down_block(\n",
       "    (conv1): Conv2d(32, 32, kernel_size=(3, 3), stride=(1, 1), padding=(1, 1))\n",
       "    (conv21): Conv2d(64, 32, kernel_size=(1, 1), stride=(1, 1))\n",
       "    (conv22): Conv2d(32, 32, kernel_size=(3, 3), stride=(1, 1), padding=(1, 1))\n",
       "    (conv31): Conv2d(96, 32, kernel_size=(1, 1), stride=(1, 1))\n",
       "    (conv32): Conv2d(32, 32, kernel_size=(3, 3), stride=(1, 1), padding=(1, 1))\n",
       "    (max_pool): AvgPool2d(kernel_size=(2, 2), stride=(2, 2), padding=0)\n",
       "    (relu): LeakyReLU(negative_slope=0.01)\n",
       "    (dropout1): Dropout(p=0.2, inplace=False)\n",
       "    (dropout2): Dropout(p=0.2, inplace=False)\n",
       "    (dropout3): Dropout(p=0.2, inplace=False)\n",
       "    (bn): BatchNorm2d(32, eps=1e-05, momentum=0.1, affine=True, track_running_stats=True)\n",
       "  )\n",
       "  (down_block4): DenseNet2D_down_block(\n",
       "    (conv1): Conv2d(32, 32, kernel_size=(3, 3), stride=(1, 1), padding=(1, 1))\n",
       "    (conv21): Conv2d(64, 32, kernel_size=(1, 1), stride=(1, 1))\n",
       "    (conv22): Conv2d(32, 32, kernel_size=(3, 3), stride=(1, 1), padding=(1, 1))\n",
       "    (conv31): Conv2d(96, 32, kernel_size=(1, 1), stride=(1, 1))\n",
       "    (conv32): Conv2d(32, 32, kernel_size=(3, 3), stride=(1, 1), padding=(1, 1))\n",
       "    (max_pool): AvgPool2d(kernel_size=(2, 2), stride=(2, 2), padding=0)\n",
       "    (relu): LeakyReLU(negative_slope=0.01)\n",
       "    (dropout1): Dropout(p=0.2, inplace=False)\n",
       "    (dropout2): Dropout(p=0.2, inplace=False)\n",
       "    (dropout3): Dropout(p=0.2, inplace=False)\n",
       "    (bn): BatchNorm2d(32, eps=1e-05, momentum=0.1, affine=True, track_running_stats=True)\n",
       "  )\n",
       "  (down_block5): DenseNet2D_down_block(\n",
       "    (conv1): Conv2d(32, 32, kernel_size=(3, 3), stride=(1, 1), padding=(1, 1))\n",
       "    (conv21): Conv2d(64, 32, kernel_size=(1, 1), stride=(1, 1))\n",
       "    (conv22): Conv2d(32, 32, kernel_size=(3, 3), stride=(1, 1), padding=(1, 1))\n",
       "    (conv31): Conv2d(96, 32, kernel_size=(1, 1), stride=(1, 1))\n",
       "    (conv32): Conv2d(32, 32, kernel_size=(3, 3), stride=(1, 1), padding=(1, 1))\n",
       "    (max_pool): AvgPool2d(kernel_size=(2, 2), stride=(2, 2), padding=0)\n",
       "    (relu): LeakyReLU(negative_slope=0.01)\n",
       "    (dropout1): Dropout(p=0.2, inplace=False)\n",
       "    (dropout2): Dropout(p=0.2, inplace=False)\n",
       "    (dropout3): Dropout(p=0.2, inplace=False)\n",
       "    (bn): BatchNorm2d(32, eps=1e-05, momentum=0.1, affine=True, track_running_stats=True)\n",
       "  )\n",
       "  (up_block1): DenseNet2D_up_block_concat(\n",
       "    (conv11): Conv2d(64, 32, kernel_size=(1, 1), stride=(1, 1))\n",
       "    (conv12): Conv2d(32, 32, kernel_size=(3, 3), stride=(1, 1), padding=(1, 1))\n",
       "    (conv21): Conv2d(96, 32, kernel_size=(1, 1), stride=(1, 1))\n",
       "    (conv22): Conv2d(32, 32, kernel_size=(3, 3), stride=(1, 1), padding=(1, 1))\n",
       "    (relu): LeakyReLU(negative_slope=0.01)\n",
       "    (dropout1): Dropout(p=0.2, inplace=False)\n",
       "    (dropout2): Dropout(p=0.2, inplace=False)\n",
       "  )\n",
       "  (up_block2): DenseNet2D_up_block_concat(\n",
       "    (conv11): Conv2d(64, 32, kernel_size=(1, 1), stride=(1, 1))\n",
       "    (conv12): Conv2d(32, 32, kernel_size=(3, 3), stride=(1, 1), padding=(1, 1))\n",
       "    (conv21): Conv2d(96, 32, kernel_size=(1, 1), stride=(1, 1))\n",
       "    (conv22): Conv2d(32, 32, kernel_size=(3, 3), stride=(1, 1), padding=(1, 1))\n",
       "    (relu): LeakyReLU(negative_slope=0.01)\n",
       "    (dropout1): Dropout(p=0.2, inplace=False)\n",
       "    (dropout2): Dropout(p=0.2, inplace=False)\n",
       "  )\n",
       "  (up_block3): DenseNet2D_up_block_concat(\n",
       "    (conv11): Conv2d(64, 32, kernel_size=(1, 1), stride=(1, 1))\n",
       "    (conv12): Conv2d(32, 32, kernel_size=(3, 3), stride=(1, 1), padding=(1, 1))\n",
       "    (conv21): Conv2d(96, 32, kernel_size=(1, 1), stride=(1, 1))\n",
       "    (conv22): Conv2d(32, 32, kernel_size=(3, 3), stride=(1, 1), padding=(1, 1))\n",
       "    (relu): LeakyReLU(negative_slope=0.01)\n",
       "    (dropout1): Dropout(p=0.2, inplace=False)\n",
       "    (dropout2): Dropout(p=0.2, inplace=False)\n",
       "  )\n",
       "  (up_block4): DenseNet2D_up_block_concat(\n",
       "    (conv11): Conv2d(64, 32, kernel_size=(1, 1), stride=(1, 1))\n",
       "    (conv12): Conv2d(32, 32, kernel_size=(3, 3), stride=(1, 1), padding=(1, 1))\n",
       "    (conv21): Conv2d(96, 32, kernel_size=(1, 1), stride=(1, 1))\n",
       "    (conv22): Conv2d(32, 32, kernel_size=(3, 3), stride=(1, 1), padding=(1, 1))\n",
       "    (relu): LeakyReLU(negative_slope=0.01)\n",
       "    (dropout1): Dropout(p=0.2, inplace=False)\n",
       "    (dropout2): Dropout(p=0.2, inplace=False)\n",
       "  )\n",
       "  (out_conv1): Conv2d(32, 4, kernel_size=(1, 1), stride=(1, 1))\n",
       "  (dropout1): Dropout(p=0.2, inplace=False)\n",
       ")"
      ]
     },
     "execution_count": 7,
     "metadata": {},
     "output_type": "execute_result"
    }
   ],
   "source": [
    "model.load_state_dict(torch.load(filename))\n",
    "model = model.to(device)\n",
    "model.eval()"
   ]
  },
  {
   "cell_type": "code",
   "execution_count": 8,
   "id": "29c114b5",
   "metadata": {},
   "outputs": [],
   "source": [
    "test_set = IrisDataset(filepath = 'Semantic_Segmentation_Dataset/',\\\n",
    "                                 split = 'test',transform = transform)\n",
    "    \n",
    "testloader = DataLoader(test_set, batch_size = 4,\n",
    "                             shuffle=False, num_workers=2)"
   ]
  },
  {
   "cell_type": "code",
   "execution_count": 51,
   "id": "d4421c47",
   "metadata": {},
   "outputs": [
    {
     "data": {
      "text/plain": [
       "<ritnet.dataset.IrisDataset at 0x7f360177b070>"
      ]
     },
     "execution_count": 51,
     "metadata": {},
     "output_type": "execute_result"
    }
   ],
   "source": [
    "test_set."
   ]
  },
  {
   "cell_type": "code",
   "execution_count": 9,
   "id": "264820da",
   "metadata": {},
   "outputs": [],
   "source": [
    "counter=0\n",
    "    \n",
    "os.makedirs('test/labels/',exist_ok=True)\n",
    "os.makedirs('test/output/',exist_ok=True)\n",
    "os.makedirs('test/mask/',exist_ok=True)"
   ]
  },
  {
   "cell_type": "code",
   "execution_count": 9,
   "id": "3f9a30df",
   "metadata": {},
   "outputs": [],
   "source": [
    "import nia22\n",
    "import cv2"
   ]
  },
  {
   "cell_type": "code",
   "execution_count": 46,
   "id": "2cfad413",
   "metadata": {},
   "outputs": [],
   "source": [
    "from glob import glob\n",
    "import random"
   ]
  },
  {
   "cell_type": "code",
   "execution_count": 47,
   "id": "1aa132c5",
   "metadata": {},
   "outputs": [
    {
     "data": {
      "text/plain": [
       "'NIA22EYE_S1_007_T1_S09_L_rgb_A_U_T_156.png'"
      ]
     },
     "execution_count": 47,
     "metadata": {},
     "output_type": "execute_result"
    }
   ],
   "source": [
    "fn_"
   ]
  },
  {
   "cell_type": "code",
   "execution_count": 62,
   "id": "db7a6b61",
   "metadata": {},
   "outputs": [],
   "source": [
    "out_dir = \"../../RITnet/NIA2022/test/images/\"\n",
    "\n",
    "ddir = \"/home/di/Work/data/NIA2022/Refined/0804/\"\n",
    "fnlist = glob(ddir + \"refined_json/NIA22EYE_S1_007*.json\")\n",
    "random.shuffle(fnlist)\n",
    "\n",
    "for fn_json in fnlist[:120]: \n",
    "    fn_png  = fn_json.replace(\"json\", \"png\")\n",
    "    img = cv2.cvtColor(cv2.imread(fn_png), cv2.COLOR_BGR2RGB)\n",
    "    fn_out = out_dir + fn_png.split(\"/\")[-1]\n",
    "\n",
    "    anno = json.load(open(fn_json))\n",
    "\n",
    "    eye = nia22.eyes.Eye(anno[\"annotations\"])\n",
    "\n",
    "    area, cropped = nia22.eyes.crop_eye(img, np.array(eye.l_eyelid['points']))\n",
    "\n",
    "    lcx, lcy = np.mean(eye.l_iris['points'], axis=0)\n",
    "    lrx, lry = np.ptp(eye.l_iris['points'], axis=0)\n",
    "\n",
    "    rcx, rcy = np.mean(eye.r_iris['points'], axis=0)\n",
    "    rrx, rry = np.ptp(eye.r_iris['points'], axis=0)\n",
    "\n",
    "    eye.l_center={\"label\":\"l_center\", 'points':[[lcx,lcy]]}\n",
    "    eye.r_center={\"label\":\"r_center\", 'points':[[rcx,rcy]]}\n",
    "\n",
    "    eye.l_iris.update({'cx':lcx, 'cy':lcy, 'rx':lrx, 'ry':lry})\n",
    "    eye.r_iris.update({'cx':rcx, 'cy':rcy, 'rx':rrx, 'ry':rry})\n",
    "\n",
    "    area, cropped = nia22.eyes.crop_eye(img, np.array(eye.l_eyelid['points']))\n",
    "\n",
    "    if cropped.shape[0] > 60:\n",
    "        cv2.imwrite(fn_out.replace(\".png\", \"_l.png\"),\n",
    "                    cv2.cvtColor(cv2.resize(cropped, (400, 640))\n",
    "                                ,cv2.COLOR_RGB2BGR))\n",
    "    \n",
    "    area, cropped = nia22.eyes.crop_eye(img, np.array(eye.r_eyelid['points']))\n",
    "    if cropped.shape[0] > 60:\n",
    "        cv2.imwrite(fn_out.replace(\".png\", \"_r.png\"),\n",
    "                    cv2.cvtColor(cv2.resize(cropped, (400, 640))\n",
    "                                ,cv2.COLOR_RGB2BGR))"
   ]
  },
  {
   "cell_type": "code",
   "execution_count": null,
   "id": "39e1e970",
   "metadata": {},
   "outputs": [],
   "source": []
  },
  {
   "cell_type": "code",
   "execution_count": null,
   "id": "ff4a29ac",
   "metadata": {},
   "outputs": [],
   "source": []
  },
  {
   "cell_type": "code",
   "execution_count": 63,
   "id": "d4ea1ca4",
   "metadata": {},
   "outputs": [],
   "source": [
    "test_set = IrisDataset(filepath = \"../../RITnet/NIA2022/\",\\\n",
    "                                 split = 'test',transform = transform)\n",
    "    \n",
    "testloader = DataLoader(test_set, batch_size = 4,\n",
    "                             shuffle=False, num_workers=2)"
   ]
  },
  {
   "cell_type": "code",
   "execution_count": 64,
   "id": "724e2c04",
   "metadata": {},
   "outputs": [
    {
     "name": "stderr",
     "output_type": "stream",
     "text": [
      "100%|██████████████████████████████████| 45/45 [00:34<00:00,  1.29it/s]\n"
     ]
    },
    {
     "data": {
      "image/png": "[encoded data removed]",
      "text/plain": [
       "<Figure size 432x288 with 1 Axes>"
      ]
     },
     "metadata": {
      "needs_background": "light"
     },
     "output_type": "display_data"
    }
   ],
   "source": [
    "with torch.no_grad():\n",
    "    for i, batchdata in tqdm(enumerate(testloader),total=len(testloader)):\n",
    "        img,labels,index,x,y= batchdata\n",
    "        data = img.to(device)       \n",
    "        output = model(data)            \n",
    "        predict = get_predictions(output)\n",
    "#         for j in range (len(index)):       \n",
    "#             np.save('test/labels/{}.npy'.format(index[j]),predict[j].cpu().numpy())\n",
    "#             try:\n",
    "#                 plt.imsave('test/output/{}.jpg'.format(index[j]),255*labels[j].cpu().numpy())\n",
    "#             except:\n",
    "#                 pass\n",
    "        if True:\n",
    "            pred_img = predict[j].cpu().numpy()/3.0\n",
    "            inp = img[j].squeeze() * 0.5 + 0.5\n",
    "            img_orig = np.clip(inp,0,1)\n",
    "            img_orig = np.array(img_orig)\n",
    "            combine = np.hstack([img_orig,pred_img])\n",
    "            plt.imsave('../../RITnet/NIA2022/test/{}.jpg'.format(index[j]),combine)\n",
    "            plt.imshow(combine)"
   ]
  },
  {
   "cell_type": "code",
   "execution_count": 20,
   "id": "9c04b20d",
   "metadata": {},
   "outputs": [],
   "source": [
    "# single image test"
   ]
  },
  {
   "cell_type": "code",
   "execution_count": 80,
   "id": "868c26c7",
   "metadata": {},
   "outputs": [],
   "source": [
    "from PIL import Image\n",
    "import cv2\n",
    "import numpy as np\n",
    "from torchvision import transforms"
   ]
  },
  {
   "cell_type": "code",
   "execution_count": null,
   "id": "390eae37",
   "metadata": {},
   "outputs": [],
   "source": []
  },
  {
   "cell_type": "code",
   "execution_count": 141,
   "id": "f24e8808",
   "metadata": {},
   "outputs": [],
   "source": [
    "transform = transforms.Compose(\n",
    "    [transforms.ToTensor(),\n",
    "     transforms.Normalize([0.5], [0.5])])"
   ]
  },
  {
   "cell_type": "code",
   "execution_count": 142,
   "id": "119fc853",
   "metadata": {},
   "outputs": [],
   "source": [
    "img = Image.open('Semantic_Segmentation_Dataset/test/images/NIA_EYE_U1_053_VR_IR_F_REYE_0901.png').convert(\"L\")\n",
    "H, W = img.width , img.height\n",
    "\n",
    "table = 255.0*(np.linspace(0, 1, 256)**0.8)\n",
    "img = cv2.LUT(np.array(img), table)\n",
    "clahe = cv2.createCLAHE(clipLimit=1.5, tileGridSize=(8,8))\n",
    "img = clahe.apply(np.array(np.uint8(img)))    \n",
    "img = Image.fromarray(img)\n",
    "img = np.array(img)\n",
    "img = np.expand_dims(img, axis=0)\n",
    "img = np.expand_dims(img, axis=0)\n",
    "#img = transform(img)\n",
    "# img = np.array(img)\n",
    "# img = np.expand_dims(img, axis=0)\n",
    "img = torch.from_numpy(img).type(torch.FloatTensor)"
   ]
  },
  {
   "cell_type": "code",
   "execution_count": 143,
   "id": "c2ae5cc2",
   "metadata": {},
   "outputs": [],
   "source": [
    "data = img.to(device)\n",
    "output = model(data)"
   ]
  },
  {
   "cell_type": "code",
   "execution_count": 150,
   "id": "b0d29cf9",
   "metadata": {},
   "outputs": [],
   "source": [
    "predict = get_predictions(output)\n",
    "pred_img = predict.cpu().numpy()/3.0"
   ]
  },
  {
   "cell_type": "code",
   "execution_count": 152,
   "id": "342e0fc3",
   "metadata": {},
   "outputs": [
    {
     "data": {
      "text/plain": [
       "<matplotlib.image.AxesImage at 0x7fe3dd8236a0>"
      ]
     },
     "execution_count": 152,
     "metadata": {},
     "output_type": "execute_result"
    },
    {
     "data": {
      "image/png": "[encoded data removed]",
      "text/plain": [
       "<Figure size 432x288 with 1 Axes>"
      ]
     },
     "metadata": {
      "needs_background": "light"
     },
     "output_type": "display_data"
    }
   ],
   "source": [
    "plt.imshow(pred_img[0])"
   ]
  },
  {
   "cell_type": "code",
   "execution_count": null,
   "id": "f3776df3",
   "metadata": {},
   "outputs": [],
   "source": []
  }
 ],
 "metadata": {
  "kernelspec": {
   "display_name": "Python 3 (ipykernel)",
   "language": "python",
   "name": "python3"
  },
  "language_info": {
   "codemirror_mode": {
    "name": "ipython",
    "version": 3
   },
   "file_extension": ".py",
   "mimetype": "text/x-python",
   "name": "python",
   "nbconvert_exporter": "python",
   "pygments_lexer": "ipython3",
   "version": "3.10.4"
  }
 },
 "nbformat": 4,
 "nbformat_minor": 5
}
