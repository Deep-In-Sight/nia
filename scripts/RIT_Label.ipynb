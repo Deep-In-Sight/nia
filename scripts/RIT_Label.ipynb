{
 "cells": [
  {
   "cell_type": "code",
   "execution_count": 1,
   "id": "978b0d29",
   "metadata": {},
   "outputs": [],
   "source": [
    "%load_ext autoreload\n",
    "%autoreload 2"
   ]
  },
  {
   "cell_type": "code",
   "execution_count": 2,
   "id": "d25bba5e",
   "metadata": {},
   "outputs": [],
   "source": [
    "import numpy as np\n",
    "import matplotlib.pyplot as plt \n",
    "\n",
    "import nia22\n",
    "import cv2\n",
    "import json"
   ]
  },
  {
   "cell_type": "code",
   "execution_count": 3,
   "id": "e72e198f",
   "metadata": {},
   "outputs": [],
   "source": [
    "label = np.load('../../RITnet_data/0try/labels/NIA_EYE_U1_053_VR_IR_F_REYE_0901.npy')"
   ]
  },
  {
   "cell_type": "code",
   "execution_count": 4,
   "id": "daa24a11",
   "metadata": {},
   "outputs": [
    {
     "data": {
      "image/png": "[encoded data removed]",
      "text/plain": [
       "<Figure size 432x288 with 4 Axes>"
      ]
     },
     "metadata": {
      "needs_background": "light"
     },
     "output_type": "display_data"
    }
   ],
   "source": [
    "fig, axs = plt.subplots(2,2)\n",
    "axs = axs.ravel()\n",
    "axs[0].imshow(label==0)\n",
    "axs[1].imshow(label==1)\n",
    "axs[2].imshow(label==2)\n",
    "axs[3].imshow(label==3)\n",
    "plt.show()"
   ]
  },
  {
   "cell_type": "code",
   "execution_count": 5,
   "id": "40f222a3",
   "metadata": {},
   "outputs": [],
   "source": [
    "# Load annotation\n",
    "ddir = \"../../SampleData/\"\n",
    "\n",
    "fn_json = ddir + \"json/mobile_C_A_H1_02.json\"\n",
    "fn_png  = fn_json.replace(\"json\", \"png\")\n",
    "\n",
    "img = cv2.cvtColor(cv2.imread(fn_png), cv2.COLOR_BGR2RGB)\n",
    "\n",
    "anno = json.load(open(fn_json))\n",
    "\n",
    "eye = nia22.eyes.Eye(anno[\"Annotations\"][\"image\"][\"annotations\"])"
   ]
  },
  {
   "cell_type": "markdown",
   "id": "cb4297ce",
   "metadata": {},
   "source": [
    "area, cropped = nia22.eyes.crop_eye(img, np.array(eye.l_eyelid['points']))"
   ]
  },
  {
   "cell_type": "code",
   "execution_count": 10,
   "id": "87535844",
   "metadata": {},
   "outputs": [],
   "source": [
    "# Make label map\n",
    "from nia22.eyes import mask_one_eye\n",
    "\n",
    "cropped, mask = mask_one_eye(img, eye, \"r\")"
   ]
  },
  {
   "cell_type": "code",
   "execution_count": 11,
   "id": "1c7127e9",
   "metadata": {},
   "outputs": [
    {
     "data": {
      "text/plain": [
       "<matplotlib.image.AxesImage at 0x7f3b9febc550>"
      ]
     },
     "execution_count": 11,
     "metadata": {},
     "output_type": "execute_result"
    },
    {
     "data": {
      "image/png": "[encoded data removed]",
      "text/plain": [
       "<Figure size 432x288 with 1 Axes>"
      ]
     },
     "metadata": {
      "needs_background": "light"
     },
     "output_type": "display_data"
    }
   ],
   "source": [
    "plt.imshow(mask)"
   ]
  },
  {
   "cell_type": "code",
   "execution_count": 12,
   "id": "92b4ef94",
   "metadata": {},
   "outputs": [
    {
     "data": {
      "text/plain": [
       "<matplotlib.image.AxesImage at 0x7f3b9fcf7430>"
      ]
     },
     "execution_count": 12,
     "metadata": {},
     "output_type": "execute_result"
    },
    {
     "data": {
      "image/png": "[encoded data removed]",
      "text/plain": [
       "<Figure size 432x288 with 1 Axes>"
      ]
     },
     "metadata": {
      "needs_background": "light"
     },
     "output_type": "display_data"
    }
   ],
   "source": [
    "plt.imshow(cropped[:,:,2] * mask)"
   ]
  },
  {
   "cell_type": "code",
   "execution_count": 30,
   "id": "baf00dc6",
   "metadata": {},
   "outputs": [],
   "source": [
    "# train with my new label map \n",
    "from glob import glob\n",
    "import os"
   ]
  },
  {
   "cell_type": "code",
   "execution_count": 22,
   "id": "d7aaf576",
   "metadata": {},
   "outputs": [],
   "source": [
    "flist = glob(ddir+\"json/*.json\")\n",
    "flist.sort()"
   ]
  },
  {
   "cell_type": "code",
   "execution_count": 38,
   "id": "6a289fde",
   "metadata": {},
   "outputs": [
    {
     "name": "stdout",
     "output_type": "stream",
     "text": [
      "error\n",
      "error\n",
      "error\n",
      "error\n",
      "error\n",
      "error\n",
      "error\n",
      "error\n",
      "error\n",
      "error\n",
      "error\n"
     ]
    }
   ],
   "source": [
    "# data dir\n",
    "dout_dir = \"../../dataset_rit_nia/\"\n",
    "os.makedirs(dout_dir, exist_ok=True)\n",
    "\n",
    "# cropped img \n",
    "png_dir = dout_dir+'images/'\n",
    "os.makedirs(png_dir, exist_ok=True)\n",
    "\n",
    "# npy label\n",
    "label_dir = dout_dir+'labels/'\n",
    "os.makedirs(label_dir, exist_ok=True)\n",
    "\n",
    "idx=0\n",
    "for fn_json in flist[2:]:\n",
    "    fn_png  = fn_json.replace(\"json\", \"png\")\n",
    "    fn = fn_json.split(\"/\")[-1].split(\"json\")[0]\n",
    "    \n",
    "    #img = cv2.cvtColor(cv2.imread(fn_png), cv2.COLOR_BGR2RGB)\n",
    "    try:\n",
    "        img = cv2.imread(fn_png)\n",
    "        anno = json.load(open(fn_json))\n",
    "        # temporary version\n",
    "        eye = nia22.eyes.Eye(anno[\"annotations\"])\n",
    "        # Final version\n",
    "        #eye = nia22.eyes.Eye(anno[\"Annotations\"][\"image\"][\"annotations\"])\n",
    "        cropped, mask = mask_one_eye(img, eye, \"r\")\n",
    "        cv2.imwrite(png_dir+fn+\"r.png\", cropped)\n",
    "        np.save(label_dir+fn+\"r.npy\",mask)\n",
    "\n",
    "        cropped, mask = mask_one_eye(img, eye, \"l\")\n",
    "        cv2.imwrite(png_dir+fn+\"l.png\", cropped)\n",
    "        np.save(label_dir+fn+\"l.npy\" ,mask)\n",
    "    except:\n",
    "        print(\"error\")"
   ]
  },
  {
   "cell_type": "markdown",
   "id": "a40534f9",
   "metadata": {},
   "source": [
    "가끔 마스크별로 이미지 크기가 다른 경우가 발생함"
   ]
  },
  {
   "cell_type": "code",
   "execution_count": null,
   "id": "45c7043e",
   "metadata": {},
   "outputs": [],
   "source": []
  }
 ],
 "metadata": {
  "kernelspec": {
   "display_name": "Python 3 (ipykernel)",
   "language": "python",
   "name": "python3"
  },
  "language_info": {
   "codemirror_mode": {
    "name": "ipython",
    "version": 3
   },
   "file_extension": ".py",
   "mimetype": "text/x-python",
   "name": "python",
   "nbconvert_exporter": "python",
   "pygments_lexer": "ipython3",
   "version": "3.10.4"
  }
 },
 "nbformat": 4,
 "nbformat_minor": 5
}
