{
 "cells": [
  {
   "cell_type": "markdown",
   "id": "bb98ceab",
   "metadata": {},
   "source": [
    "### Just a list of video files, their length and the class\n",
    "\n",
    "path/to/your/video/train/000001 16 4"
   ]
  },
  {
   "cell_type": "code",
   "execution_count": 1,
   "id": "2282f188",
   "metadata": {},
   "outputs": [],
   "source": [
    "%load_ext autoreload\n",
    "%autoreload 2"
   ]
  },
  {
   "cell_type": "code",
   "execution_count": 2,
   "id": "7a22385b",
   "metadata": {},
   "outputs": [],
   "source": [
    "import os\n",
    "import numpy as np\n",
    "import matplotlib.pyplot as plt \n",
    "\n",
    "import cv2\n",
    "import json\n",
    "\n",
    "from pathlib import Path\n",
    "from glob import glob\n",
    "\n",
    "import json\n",
    "import nia22\n",
    "from nia22 import utils\n",
    "from nia22.mask_utils import gen_mask"
   ]
  },
  {
   "cell_type": "code",
   "execution_count": 3,
   "id": "f1675e84",
   "metadata": {},
   "outputs": [],
   "source": [
    "# Load annotation\n",
    "base_dir = Path(\"/home/hoseung/Work/NIA/\") \n",
    "raw_dir = base_dir / Path(\"data/raw/\")"
   ]
  },
  {
   "cell_type": "code",
   "execution_count": 4,
   "id": "40183ec3",
   "metadata": {},
   "outputs": [],
   "source": [
    "# dkey <-> device\n",
    "conditions = [\"F\", \"S\", \"D\", \"A\", \"N\"]\n",
    "postures = [\"S\", \"D\", \"P\", \"L\", \"F\", \"C\", \"H\", \"E\", \"T\", \"U\"]\n",
    "device = [\"S\", \"T\", \"L\", \"V\", \"M\"]\n",
    "\n",
    "dir_names = [\"Eye-tracker/\", \"FaceAngle/\", \n",
    "             \"CamAngle/\", \"DistCam2Face/\", \n",
    "             \"DistDisp2Face/\"]\n",
    "file_names = [\"_point_\", \"_head_\", \"_cam_\", \n",
    "              \"_dcam_\", \"_ddisp_\"]\n"
   ]
  },
  {
   "cell_type": "code",
   "execution_count": 5,
   "id": "d90ff895",
   "metadata": {},
   "outputs": [
    {
     "name": "stdout",
     "output_type": "stream",
     "text": [
      "Base dir: /home/hoseung/Work/NIA/data/raw\n"
     ]
    }
   ],
   "source": [
    "vl = utils.VidLoader(base_dir)"
   ]
  },
  {
   "cell_type": "code",
   "execution_count": null,
   "id": "5264a2cc",
   "metadata": {},
   "outputs": [],
   "source": [
    "for uid in range(131, 168):\n",
    "    for device in [\"L\", \"M\", \"V\", \"T\", \"S\"][2:3]:\n",
    "        vlist = vl.load(uid, device=device)\n",
    "        # save PNG \n",
    "        for fn_vid in vlist:\n",
    "            fn_base = fn_vid.split(\"/\")[-1].split(\".mp4\")[0]\n",
    "            cap = cv2.VideoCapture(fn_vid)\n",
    "            if cap.isOpened():\n",
    "                jlist = vl.get_jsons(fn_vid)\n",
    "                for ff, fn_json in zip(jlist['frames'], jlist['jsons']):\n",
    "                    try:\n",
    "                        anno = json.load(open(fn_json,\"r\"))\n",
    "                        cap.set(cv2.CAP_PROP_POS_FRAMES, ff)\n",
    "                        ok, frame = cap.read()\n",
    "                        frame = cv2.cvtColor(frame, cv2.COLOR_BGR2RGB)\n",
    "\n",
    "                        fn_png_out = str(fn_base) + f\"_{ff}\"\n",
    "                        err = gen_mask(frame, anno, fn_png_out, png_dir, label_dir)\n",
    "                    except:\n",
    "                        print(\"something wrong\", fn_json)\n",
    "            else:\n",
    "                print(\"Can't open video file\")\n",
    "                print(\">>>\", fn_vid)\n",
    "            cap.release()\n",
    "            print(fn_vid, \"done\")\n"
   ]
  }
 ],
 "metadata": {
  "kernelspec": {
   "display_name": "Python 3 (ipykernel)",
   "language": "python",
   "name": "python3"
  },
  "language_info": {
   "codemirror_mode": {
    "name": "ipython",
    "version": 3
   },
   "file_extension": ".py",
   "mimetype": "text/x-python",
   "name": "python",
   "nbconvert_exporter": "python",
   "pygments_lexer": "ipython3",
   "version": "3.10.8"
  }
 },
 "nbformat": 4,
 "nbformat_minor": 5
}
