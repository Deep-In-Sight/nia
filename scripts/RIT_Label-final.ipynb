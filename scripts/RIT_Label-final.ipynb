{
 "cells": [
  {
   "cell_type": "code",
   "execution_count": 1,
   "id": "978b0d29",
   "metadata": {},
   "outputs": [],
   "source": [
    "%load_ext autoreload\n",
    "%autoreload 2"
   ]
  },
  {
   "cell_type": "code",
   "execution_count": 2,
   "id": "d25bba5e",
   "metadata": {},
   "outputs": [],
   "source": [
    "import os\n",
    "import numpy as np\n",
    "import matplotlib.pyplot as plt \n",
    "\n",
    "import cv2\n",
    "import json\n",
    "\n",
    "from pathlib import Path\n",
    "from glob import glob\n",
    "\n",
    "import json\n",
    "import nia22\n",
    "from nia22 import utils\n",
    "from nia22.mask_utils import gen_mask"
   ]
  },
  {
   "cell_type": "code",
   "execution_count": 3,
   "id": "f2f8577e",
   "metadata": {},
   "outputs": [],
   "source": [
    "# Load annotation\n",
    "base_dir = Path(\"/home/hoseung/Work/NIA/\") \n",
    "json_dir = base_dir / Path(\"data/json/\")\n",
    "raw_dir = base_dir / Path(\"data/raw/\")\n",
    "\n",
    "# dkey <-> device\n",
    "conditions = [\"F\", \"S\", \"D\", \"A\", \"N\"]\n",
    "postures = [\"S\", \"D\", \"P\", \"L\", \"F\", \"C\", \"H\", \"E\", \"T\", \"U\"]\n",
    "device = [\"S\", \"T\", \"L\", \"V\", \"M\"]\n",
    "\n",
    "dir_names = [\"Eye-tracker/\", \"FaceAngle/\", \n",
    "             \"CamAngle/\", \"DistCam2Face/\", \n",
    "             \"DistDisp2Face/\"]\n",
    "file_names = [\"_point_\", \"_head_\", \"_cam_\", \n",
    "              \"_dcam_\", \"_ddisp_\"]\n",
    "\n",
    "#data dir\n",
    "dout_dir = base_dir / Path(\"data/rit_data\")\n",
    "os.makedirs(dout_dir, exist_ok=True)\n",
    "\n",
    "# cropped img \n",
    "png_dir = str(dout_dir / Path(\"images/\")) + '/'\n",
    "os.makedirs(png_dir, exist_ok=True)\n",
    "\n",
    "# npy label\n",
    "label_dir = str(dout_dir / Path(\"labels/\")) + '/'\n",
    "os.makedirs(label_dir, exist_ok=True)"
   ]
  },
  {
   "cell_type": "code",
   "execution_count": 5,
   "id": "1e20c5fc",
   "metadata": {},
   "outputs": [
    {
     "name": "stdout",
     "output_type": "stream",
     "text": [
      "Base dir: /home/hoseung/Work/NIA/data/raw\n"
     ]
    }
   ],
   "source": [
    "vl = utils.VidLoader(base_dir)"
   ]
  },
  {
   "cell_type": "code",
   "execution_count": null,
   "id": "17aac669",
   "metadata": {
    "scrolled": true
   },
   "outputs": [
    {
     "name": "stdout",
     "output_type": "stream",
     "text": [
      "/home/hoseung/Work/NIA/data/raw/137/T1/Laptop/RGB/NIA22EYE_S1_137_T1_*_L_rgb_*_*_*.mp4\n",
      "Found 87 videos\n",
      "something wrong /home/hoseung/Work/NIA/data/json/137/T1/Laptop/json_rgb/NIA22EYE_S1_137_T1_S07_L_rgb_F_E_T_128.json\n",
      "something wrong /home/hoseung/Work/NIA/data/json/137/T1/Laptop/json_rgb/NIA22EYE_S1_137_T1_S07_L_rgb_F_E_T_131.json\n",
      "NIA22EYE_S1_137_T1_S07_L_rgb_F_E_T_152\n",
      "not enough labels. Eyes are closed?\n"
     ]
    }
   ],
   "source": [
    "for uid in range(137, 138):\n",
    "    for device in [\"L\", \"M\", \"V\", \"T\", \"S\"][:2]:\n",
    "        vlist = vl.load(uid, device=device)\n",
    "        # save PNG \n",
    "        for fn_vid in vlist:\n",
    "            fn_base = fn_vid.split(\"/\")[-1].split(\".mp4\")[0]\n",
    "            cap = cv2.VideoCapture(fn_vid)#, apiPreference=cv2.CAP_GSTREAMER)\n",
    "            if cap.isOpened():\n",
    "                jlist = vl.get_jsons(fn_vid)\n",
    "                for ff, fn_json in zip(jlist['frames'], jlist['jsons']):\n",
    "                    #if True:\n",
    "                    try:\n",
    "                        anno = json.load(open(fn_json,\"r\"))\n",
    "                        cap.set(cv2.CAP_PROP_POS_FRAMES, ff)\n",
    "                        ok, frame = cap.read()\n",
    "                        frame = cv2.cvtColor(frame, cv2.COLOR_BGR2RGB)\n",
    "\n",
    "                        fn_png_out = str(fn_base) + f\"_{ff}\"\n",
    "                        err = gen_mask(frame, anno, fn_png_out, png_dir, label_dir)\n",
    "                        del anno\n",
    "                    except:\n",
    "                    #else:\n",
    "                        print(\"something wrong\", fn_json)\n",
    "            else:\n",
    "                print(\"Can't open video file\")\n",
    "                print(\">>>\", fn_vid)\n",
    "            cap.release()\n",
    "            print(fn_vid, \"done\")\n"
   ]
  },
  {
   "cell_type": "code",
   "execution_count": null,
   "id": "355b6b44",
   "metadata": {},
   "outputs": [],
   "source": []
  }
 ],
 "metadata": {
  "kernelspec": {
   "display_name": "Python 3 (ipykernel)",
   "language": "python",
   "name": "python3"
  },
  "language_info": {
   "codemirror_mode": {
    "name": "ipython",
    "version": 3
   },
   "file_extension": ".py",
   "mimetype": "text/x-python",
   "name": "python",
   "nbconvert_exporter": "python",
   "pygments_lexer": "ipython3",
   "version": "3.10.8"
  }
 },
 "nbformat": 4,
 "nbformat_minor": 5
}
