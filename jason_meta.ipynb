{
 "cells": [
  {
   "cell_type": "code",
   "execution_count": 1,
   "id": "58d60484",
   "metadata": {},
   "outputs": [],
   "source": [
    "%load_ext autoreload\n",
    "%autoreload 2"
   ]
  },
  {
   "cell_type": "code",
   "execution_count": 2,
   "id": "3de1e112",
   "metadata": {},
   "outputs": [],
   "source": [
    "import matplotlib.pyplot as plt \n",
    "import numpy as np\n",
    "from scipy import interpolate\n",
    "from functools import partial\n",
    "import json\n",
    "from glob import glob\n",
    "\n",
    "import os"
   ]
  },
  {
   "cell_type": "code",
   "execution_count": 3,
   "id": "d01cef4f",
   "metadata": {},
   "outputs": [],
   "source": [
    "from dataprocess.generator import *"
   ]
  },
  {
   "cell_type": "code",
   "execution_count": 4,
   "id": "5a65d046",
   "metadata": {},
   "outputs": [],
   "source": [
    "def get_converter(field:str):\n",
    "    if field == \"inst\":\n",
    "        keys = [\"S\", \"T\", \"L\", \"V\", \"M\"]\n",
    "    elif field == \"condition\":\n",
    "        keys = [\"F\", \"S\", \"D\", \"A\", \"N\"]\n",
    "    elif field == \"posture\":\n",
    "        keys = [\"S\", \"D\", \"P\", \"L\", \"F\", \n",
    "                \"C\", \"H\", \"E\", \"T\", \"U\"]\n",
    "    else:\n",
    "        raise ValueError(field)\n",
    "\n",
    "    return partial(_concat, keys=keys)\n",
    "\n",
    "def _concat(value, keys=None):\n",
    "    \"\"\"concatenate strings\"\"\"\n",
    "    code =\"\"\n",
    "    for s in keys:\n",
    "        if s in value:\n",
    "            code += s\n",
    "        else:\n",
    "            code += \"X\"\n",
    "    return code"
   ]
  },
  {
   "cell_type": "code",
   "execution_count": 120,
   "id": "aabd7e72",
   "metadata": {},
   "outputs": [],
   "source": [
    "concat_inst = get_converter(\"inst\")\n",
    "concat_condition = get_converter(\"condition\")\n",
    "concat_posture = get_converter(\"posture\")"
   ]
  },
  {
   "cell_type": "code",
   "execution_count": 121,
   "id": "296aeb21",
   "metadata": {},
   "outputs": [],
   "source": [
    "clip_dir = \"/home/hoseung/Dropbox/DeepInsight/2022/NIA/1Cycle/FHD/done/\"\n",
    "clip_list = glob(clip_dir+\"*.mp4\")\n",
    "clip_list.sort()\n",
    "clip_list_fn = [cl.split(\"/\")[-1] for cl in clip_list]"
   ]
  },
  {
   "cell_type": "code",
   "execution_count": 122,
   "id": "27b2479d",
   "metadata": {},
   "outputs": [],
   "source": [
    "file_sizes_Bytes = [os.path.getsize(cc) for cc in clip_list]"
   ]
  },
  {
   "cell_type": "code",
   "execution_count": 123,
   "id": "a9fcd874",
   "metadata": {},
   "outputs": [
    {
     "name": "stdout",
     "output_type": "stream",
     "text": [
      "Total file size 1.08GB\n"
     ]
    }
   ],
   "source": [
    "print(f\"Total file size {np.sum(file_sizes_Bytes)/1024/1024/1024:.2f}GB\")"
   ]
  },
  {
   "cell_type": "code",
   "execution_count": 124,
   "id": "1b302c7a",
   "metadata": {},
   "outputs": [],
   "source": [
    "## Variables below are to be read from csv file ##\n",
    "username = \"hoseung\"\n",
    "email = \"hschoi@dinsight.ai\"\n",
    "subject = 1\n",
    "medical = 1\n",
    "age = 34\n",
    "glasses = \"no\"\n",
    "cosmetic= \"no\"\n",
    "mask = \"no\"\n",
    "ver  = len(clip_list)\n",
    "rev = 0\n",
    "date = \"2022-06-08\"\n",
    "loc = \"S101\"\n",
    "inst = \"S\"\n",
    "condition = \"FSDAN\"\n",
    "posture = \"SDPLFCXETU\"\n",
    "n_rgb = len(clip_list_fn)\n",
    "n_ir = 0\n",
    "n_point = len(clip_list_fn)\n",
    "n_head = len(clip_list_fn)\n",
    "n_gaze = len(clip_list_fn)\n",
    "tsize_rgb = np.sum(file_sizes_Bytes)/1024/1024/1024\n",
    "tsize_ir = 0\n",
    "tsize_point = 2.1\n",
    "tsize_head = 2.1\n",
    "tsize_gaze = 2.1\n",
    "tsize_d_cam = 0.8\n",
    "tsize_d_disp = 0.8\n",
    "######################################\n",
    "\n",
    "\n",
    "\n",
    "\n",
    "x = {\n",
    "    \"id\": {\"subject\":subject, \"medical\":medical},\n",
    "    \"age\":age, \n",
    "    \"glasses\":glasses, \n",
    "    \"cosmetic\":cosmetic, \n",
    "    \"mask\":mask, \n",
    "    \"ver\":ver, \n",
    "    \"date\":date, \n",
    "    \"loc\":loc, \n",
    "    \"inst\":concat_inst(inst), \n",
    "    \"condition\":concat_condition(condition),\n",
    "    \"posture\":concat_posture(posture),\n",
    "    \"rev\":rev,\n",
    "    \"image\": {\"format\": {\"rgb\": \"mp4\",\"ir\": \"mp4\", \"point\":\"csv\", \"head\":\"csv\", \"gaze\":\"csv\", \n",
    "                         \"d_cam\":\"csv\", \"d_disp\":\"csv\"},\n",
    "                \"spec\":{\"rgb.w\":1920, \"rgb.h\":1080, \"ir.w\":1920, \"ir.h\":1080, \n",
    "                         \"point\":\"yyyy-mm-dd,hh:mm:ss,x,y\",\n",
    "                         \"head\":\"yyyy-mm-dd,hh:mm:ss,deg,deg,deg\",\n",
    "                         \"gaze\":\"yyyy-mm-dd,hh:mm:ss,deg,deg,deg\",\n",
    "                         \"d_cam\":\"yyyy-mm-dd,hh:mm:ss,cm\",\n",
    "                         \"d_disp\":\"yyyy-mm-dd,hh:mm:ss,cm\"},\n",
    "                \"total_size\":{\"rgb\":tsize_rgb, \"ir\":tsize_ir, \"point\":tsize_point, \"head\":tsize_head,\n",
    "                              \"gaze\":tsize_gaze, \"d_cam\":tsize_d_cam, \"d_disp\":tsize_d_disp},\n",
    "                \"total_count\":{\"rgb\":n_rgb, \"ir\":n_ir, \"point\":n_point, \"head\":n_head, \"gaze\":n_gaze}\n",
    "             },\n",
    "    \"task\":{\n",
    "        \"name\":\"NIA_EYE\",\n",
    "        \"created\":\"yyyy-mm-dd,hh:mm:ss\", \n",
    "        \"updated\":\"yyyy-mm-dd,hh:mm:ss\",\n",
    "        \"username\":username, \n",
    "        \"email\":email},\n",
    "    \"filelist\":clip_list_fn\n",
    "}"
   ]
  },
  {
   "cell_type": "code",
   "execution_count": 125,
   "id": "0c8e8c1f",
   "metadata": {},
   "outputs": [],
   "source": [
    "# Dump json file\n",
    "fn = \"test2.json\"\n",
    "with open(fn, \"w\") as f:\n",
    "    json.dump(x, f)"
   ]
  },
  {
   "cell_type": "markdown",
   "id": "5f952f4f",
   "metadata": {},
   "source": [
    "Eye-tracker, 얼굴 지향각, 시선 각, 카메라-촬영자 거리, 카메라-디스플레이 거리   \n",
    "각각은 영상의 매 프레임마다 측정값이 제공 됨.  \n",
    "\n",
    "이번에는 가짜 값을 만들어냄."
   ]
  },
  {
   "cell_type": "code",
   "execution_count": null,
   "id": "f4702b7d",
   "metadata": {},
   "outputs": [],
   "source": []
  },
  {
   "cell_type": "code",
   "execution_count": 11,
   "id": "1b23a84d",
   "metadata": {},
   "outputs": [
    {
     "data": {
      "text/plain": [
       "[<matplotlib.lines.Line2D at 0x7f5f62a76d40>]"
      ]
     },
     "execution_count": 11,
     "metadata": {},
     "output_type": "execute_result"
    },
    {
     "data": {
      "image/png": "[encoded data removed]",
      "text/plain": [
       "<Figure size 432x288 with 1 Axes>"
      ]
     },
     "metadata": {
      "needs_background": "light"
     },
     "output_type": "display_data"
    }
   ],
   "source": [
    "p = Particle(1920, 1080, 500)\n",
    "xx, yy = p.random_move(max_dt=30, dt_stop=15, max_acc=10, min_acc=5)\n",
    "plt.plot(xx, yy)"
   ]
  },
  {
   "cell_type": "code",
   "execution_count": 12,
   "id": "e68ad747",
   "metadata": {},
   "outputs": [
    {
     "data": {
      "text/plain": [
       "[<matplotlib.lines.Line2D at 0x7f5f6221e080>]"
      ]
     },
     "execution_count": 12,
     "metadata": {},
     "output_type": "execute_result"
    },
    {
     "data": {
      "image/png": "[encoded data removed]",
      "text/plain": [
       "<Figure size 432x288 with 1 Axes>"
      ]
     },
     "metadata": {
      "needs_background": "light"
     },
     "output_type": "display_data"
    }
   ],
   "source": [
    "p = Particle(1920, 1080, 500)\n",
    "xx, yy = p.random_move(max_dt=300, dt_stop=1, max_acc=6, min_acc=2)\n",
    "plt.plot(xx, yy)"
   ]
  },
  {
   "cell_type": "markdown",
   "id": "63197de7",
   "metadata": {},
   "source": [
    "#### ISSUE\n",
    "1. 화면에 표시되는 순간과 관찰자의 눈이 화면을 찾아가는 시간의 차이가 발생함\n",
    "2. 그 차이가 사람에 따라 다를 것 (빠릿빠릿 vs 느릿느릿)"
   ]
  },
  {
   "cell_type": "markdown",
   "id": "50f42087",
   "metadata": {},
   "source": [
    "gaze pose는 각도이므로 점에서 각도로 다시 변환 해야함. "
   ]
  },
  {
   "cell_type": "code",
   "execution_count": 13,
   "id": "13139a57",
   "metadata": {},
   "outputs": [],
   "source": [
    "def point_to_degree(xpos, ypos, d_cam, d_disp, ):\n",
    "    \"\"\"transformation이 너무... 많은데..?? \n",
    "    \"\"\""
   ]
  },
  {
   "cell_type": "code",
   "execution_count": 126,
   "id": "46444d64",
   "metadata": {},
   "outputs": [],
   "source": [
    "import cv2\n",
    "\n",
    "# count the number of frames of the video\n",
    "conditions = [\"F\", \"S\", \"D\", \"A\", \"N\"]\n",
    "postures = [\"S\", \"D\", \"P\", \"L\", \"F\", \"C\", \"H\", \"E\", \"T\", \"U\"]\n",
    "display = [\"S\", \"T\", \"L\", \"V\", \"M\"]\n",
    "\n",
    "wdir = \"./\"\n",
    "\n",
    "for fn_clip in clip_list:\n",
    "    file_name = fn_clip.split(\"/\")[-1]\n",
    "    display, posture, condition, orientation = file_name.split(\".mp4\")[0].split(\"_\")\n",
    "    cap = cv2.VideoCapture(fn_clip)\n",
    "    if not cap.isOpened():\n",
    "        continue\n",
    "    nframes = int(cap.get(cv2.CAP_PROP_FRAME_COUNT))\n",
    "    #print(display, posture, condition, orientation)\n",
    "    fake = Fake_generator(wdir, nframes, 1920, 1080, display, posture, condition, orientation)\n",
    "    dist = 35 # 정하고 하는거 아님\n",
    "    fake.gen_d_disp(dist)\n",
    "    fake.gen_d_cam(dist)\n",
    "    fake.gen_head()\n",
    "    fake.gen_pose_d()\n",
    "    fake.gen_gaze_eye_trakcer()\n",
    "    fake.save_all()"
   ]
  },
  {
   "cell_type": "code",
   "execution_count": null,
   "id": "53056acb",
   "metadata": {},
   "outputs": [],
   "source": []
  },
  {
   "cell_type": "code",
   "execution_count": 404,
   "id": "b87ffa2e",
   "metadata": {},
   "outputs": [
    {
     "data": {
      "image/png": "[encoded data removed]",
      "text/plain": [
       "<Figure size 432x288 with 1 Axes>"
      ]
     },
     "metadata": {
      "needs_background": "light"
     },
     "output_type": "display_data"
    }
   ],
   "source": [
    "fake = Fake_generator('./', 500, 1920, 1080, condition='no_interest')\n",
    "\n",
    "fake.gen_d_disp(80)\n",
    "fake.gen_d_cam(80)\n",
    "fake.gen_gaze_eye_trakcer()\n",
    "fake.gen_head()\n",
    "fake.gen_pose_d()\n",
    "fake.gen_gaze_eye_trakcer()\n",
    "\n",
    "fig, ax = plt.subplots()\n",
    "ax.plot(fake.point['point_x'], fake.point['point_y'], label=\"eye-tracker\")\n",
    "ax.plot(fake.gaze_x,  fake.gaze_y, label=\"gaze\")\n",
    "ax.legend()\n",
    "plt.show()"
   ]
  },
  {
   "cell_type": "code",
   "execution_count": 376,
   "id": "a50d6321",
   "metadata": {},
   "outputs": [
    {
     "data": {
      "text/plain": [
       "dict_keys(['roll', 'pitch', 'yaw'])"
      ]
     },
     "execution_count": 376,
     "metadata": {},
     "output_type": "execute_result"
    }
   ],
   "source": [
    "fake.disp_pose.keys()"
   ]
  },
  {
   "cell_type": "code",
   "execution_count": 47,
   "id": "8fcf8936",
   "metadata": {},
   "outputs": [
    {
     "data": {
      "text/plain": [
       "'/home/hoseung/Dropbox/DeepInsight/2022/NIA/예제/FHD/핸드폰_태만_80cm_FHD.mp4'"
      ]
     },
     "execution_count": 47,
     "metadata": {},
     "output_type": "execute_result"
    }
   ],
   "source": [
    "# 저장만 하면 됨... \n",
    "# 파일 이름 확인하고 \n",
    "# 포멧 확인해서 \n",
    "# CSV로. "
   ]
  },
  {
   "cell_type": "code",
   "execution_count": 32,
   "id": "69d414d7",
   "metadata": {
    "scrolled": true
   },
   "outputs": [
    {
     "data": {
      "text/plain": [
       "['/home/hoseung/Dropbox/DeepInsight/2022/NIA/1Cycle/FHD/done/mobile_C_A_H1.mp4',\n",
       " '/home/hoseung/Dropbox/DeepInsight/2022/NIA/1Cycle/FHD/done/mobile_C_A_H2.mp4',\n",
       " '/home/hoseung/Dropbox/DeepInsight/2022/NIA/1Cycle/FHD/done/mobile_C_A_V.mp4',\n",
       " '/home/hoseung/Dropbox/DeepInsight/2022/NIA/1Cycle/FHD/done/mobile_C_D_H1.mp4',\n",
       " '/home/hoseung/Dropbox/DeepInsight/2022/NIA/1Cycle/FHD/done/mobile_C_D_H2.mp4',\n",
       " '/home/hoseung/Dropbox/DeepInsight/2022/NIA/1Cycle/FHD/done/mobile_C_D_V.mp4',\n",
       " '/home/hoseung/Dropbox/DeepInsight/2022/NIA/1Cycle/FHD/done/mobile_C_F_H1.mp4',\n",
       " '/home/hoseung/Dropbox/DeepInsight/2022/NIA/1Cycle/FHD/done/mobile_C_F_H2.mp4',\n",
       " '/home/hoseung/Dropbox/DeepInsight/2022/NIA/1Cycle/FHD/done/mobile_C_F_V.mp4',\n",
       " '/home/hoseung/Dropbox/DeepInsight/2022/NIA/1Cycle/FHD/done/mobile_C_S_H1.mp4',\n",
       " '/home/hoseung/Dropbox/DeepInsight/2022/NIA/1Cycle/FHD/done/mobile_C_S_H2.mp4',\n",
       " '/home/hoseung/Dropbox/DeepInsight/2022/NIA/1Cycle/FHD/done/mobile_C_S_V.mp4',\n",
       " '/home/hoseung/Dropbox/DeepInsight/2022/NIA/1Cycle/FHD/done/mobile_D_A_H1.mp4',\n",
       " '/home/hoseung/Dropbox/DeepInsight/2022/NIA/1Cycle/FHD/done/mobile_D_A_H2.mp4',\n",
       " '/home/hoseung/Dropbox/DeepInsight/2022/NIA/1Cycle/FHD/done/mobile_D_A_V.mp4',\n",
       " '/home/hoseung/Dropbox/DeepInsight/2022/NIA/1Cycle/FHD/done/mobile_D_D_H1.mp4',\n",
       " '/home/hoseung/Dropbox/DeepInsight/2022/NIA/1Cycle/FHD/done/mobile_D_D_H2.mp4',\n",
       " '/home/hoseung/Dropbox/DeepInsight/2022/NIA/1Cycle/FHD/done/mobile_D_D_V.mp4',\n",
       " '/home/hoseung/Dropbox/DeepInsight/2022/NIA/1Cycle/FHD/done/mobile_D_F_H1.mp4',\n",
       " '/home/hoseung/Dropbox/DeepInsight/2022/NIA/1Cycle/FHD/done/mobile_D_F_H2.mp4',\n",
       " '/home/hoseung/Dropbox/DeepInsight/2022/NIA/1Cycle/FHD/done/mobile_D_F_V.mp4',\n",
       " '/home/hoseung/Dropbox/DeepInsight/2022/NIA/1Cycle/FHD/done/mobile_D_N_H1.mp4',\n",
       " '/home/hoseung/Dropbox/DeepInsight/2022/NIA/1Cycle/FHD/done/mobile_D_N_H2.mp4',\n",
       " '/home/hoseung/Dropbox/DeepInsight/2022/NIA/1Cycle/FHD/done/mobile_D_N_V.mp4',\n",
       " '/home/hoseung/Dropbox/DeepInsight/2022/NIA/1Cycle/FHD/done/mobile_D_S_H1.mp4',\n",
       " '/home/hoseung/Dropbox/DeepInsight/2022/NIA/1Cycle/FHD/done/mobile_D_S_H2.mp4',\n",
       " '/home/hoseung/Dropbox/DeepInsight/2022/NIA/1Cycle/FHD/done/mobile_D_S_V.mp4',\n",
       " '/home/hoseung/Dropbox/DeepInsight/2022/NIA/1Cycle/FHD/done/mobile_E_A_H1.mp4',\n",
       " '/home/hoseung/Dropbox/DeepInsight/2022/NIA/1Cycle/FHD/done/mobile_E_A_H2.mp4',\n",
       " '/home/hoseung/Dropbox/DeepInsight/2022/NIA/1Cycle/FHD/done/mobile_E_A_V.mp4',\n",
       " '/home/hoseung/Dropbox/DeepInsight/2022/NIA/1Cycle/FHD/done/mobile_E_D_H1.mp4',\n",
       " '/home/hoseung/Dropbox/DeepInsight/2022/NIA/1Cycle/FHD/done/mobile_E_D_H2.mp4',\n",
       " '/home/hoseung/Dropbox/DeepInsight/2022/NIA/1Cycle/FHD/done/mobile_E_D_V.mp4',\n",
       " '/home/hoseung/Dropbox/DeepInsight/2022/NIA/1Cycle/FHD/done/mobile_E_F_H1.mp4',\n",
       " '/home/hoseung/Dropbox/DeepInsight/2022/NIA/1Cycle/FHD/done/mobile_E_F_H2.mp4',\n",
       " '/home/hoseung/Dropbox/DeepInsight/2022/NIA/1Cycle/FHD/done/mobile_E_F_V.mp4',\n",
       " '/home/hoseung/Dropbox/DeepInsight/2022/NIA/1Cycle/FHD/done/mobile_E_N_H1.mp4',\n",
       " '/home/hoseung/Dropbox/DeepInsight/2022/NIA/1Cycle/FHD/done/mobile_E_N_H2.mp4',\n",
       " '/home/hoseung/Dropbox/DeepInsight/2022/NIA/1Cycle/FHD/done/mobile_E_N_V.mp4',\n",
       " '/home/hoseung/Dropbox/DeepInsight/2022/NIA/1Cycle/FHD/done/mobile_E_S_H1.mp4',\n",
       " '/home/hoseung/Dropbox/DeepInsight/2022/NIA/1Cycle/FHD/done/mobile_E_S_H2.mp4',\n",
       " '/home/hoseung/Dropbox/DeepInsight/2022/NIA/1Cycle/FHD/done/mobile_E_S_V.mp4',\n",
       " '/home/hoseung/Dropbox/DeepInsight/2022/NIA/1Cycle/FHD/done/mobile_F_A_H1.mp4',\n",
       " '/home/hoseung/Dropbox/DeepInsight/2022/NIA/1Cycle/FHD/done/mobile_F_A_H2.mp4',\n",
       " '/home/hoseung/Dropbox/DeepInsight/2022/NIA/1Cycle/FHD/done/mobile_F_A_V.mp4',\n",
       " '/home/hoseung/Dropbox/DeepInsight/2022/NIA/1Cycle/FHD/done/mobile_F_D_H1.mp4',\n",
       " '/home/hoseung/Dropbox/DeepInsight/2022/NIA/1Cycle/FHD/done/mobile_F_D_H2.mp4',\n",
       " '/home/hoseung/Dropbox/DeepInsight/2022/NIA/1Cycle/FHD/done/mobile_F_D_V.mp4',\n",
       " '/home/hoseung/Dropbox/DeepInsight/2022/NIA/1Cycle/FHD/done/mobile_F_F_H1.mp4',\n",
       " '/home/hoseung/Dropbox/DeepInsight/2022/NIA/1Cycle/FHD/done/mobile_F_F_H2.mp4',\n",
       " '/home/hoseung/Dropbox/DeepInsight/2022/NIA/1Cycle/FHD/done/mobile_F_F_V.mp4',\n",
       " '/home/hoseung/Dropbox/DeepInsight/2022/NIA/1Cycle/FHD/done/mobile_F_N_H1.mp4',\n",
       " '/home/hoseung/Dropbox/DeepInsight/2022/NIA/1Cycle/FHD/done/mobile_F_N_H2.mp4',\n",
       " '/home/hoseung/Dropbox/DeepInsight/2022/NIA/1Cycle/FHD/done/mobile_F_N_V.mp4',\n",
       " '/home/hoseung/Dropbox/DeepInsight/2022/NIA/1Cycle/FHD/done/mobile_F_S_H1.mp4',\n",
       " '/home/hoseung/Dropbox/DeepInsight/2022/NIA/1Cycle/FHD/done/mobile_F_S_H2.mp4',\n",
       " '/home/hoseung/Dropbox/DeepInsight/2022/NIA/1Cycle/FHD/done/mobile_F_S_V.mp4',\n",
       " '/home/hoseung/Dropbox/DeepInsight/2022/NIA/1Cycle/FHD/done/mobile_L_A_H1.mp4',\n",
       " '/home/hoseung/Dropbox/DeepInsight/2022/NIA/1Cycle/FHD/done/mobile_L_A_H2.mp4',\n",
       " '/home/hoseung/Dropbox/DeepInsight/2022/NIA/1Cycle/FHD/done/mobile_L_D_H1.mp4',\n",
       " '/home/hoseung/Dropbox/DeepInsight/2022/NIA/1Cycle/FHD/done/mobile_L_D_H2.mp4',\n",
       " '/home/hoseung/Dropbox/DeepInsight/2022/NIA/1Cycle/FHD/done/mobile_L_F_H1.mp4',\n",
       " '/home/hoseung/Dropbox/DeepInsight/2022/NIA/1Cycle/FHD/done/mobile_L_F_H2.mp4',\n",
       " '/home/hoseung/Dropbox/DeepInsight/2022/NIA/1Cycle/FHD/done/mobile_L_N_H1.mp4',\n",
       " '/home/hoseung/Dropbox/DeepInsight/2022/NIA/1Cycle/FHD/done/mobile_L_N_H2.mp4',\n",
       " '/home/hoseung/Dropbox/DeepInsight/2022/NIA/1Cycle/FHD/done/mobile_L_S_H1.mp4',\n",
       " '/home/hoseung/Dropbox/DeepInsight/2022/NIA/1Cycle/FHD/done/mobile_L_S_H2.mp4',\n",
       " '/home/hoseung/Dropbox/DeepInsight/2022/NIA/1Cycle/FHD/done/mobile_P_A_H2.mp4',\n",
       " '/home/hoseung/Dropbox/DeepInsight/2022/NIA/1Cycle/FHD/done/mobile_P_D_H1.mp4',\n",
       " '/home/hoseung/Dropbox/DeepInsight/2022/NIA/1Cycle/FHD/done/mobile_P_D_H2.mp4',\n",
       " '/home/hoseung/Dropbox/DeepInsight/2022/NIA/1Cycle/FHD/done/mobile_P_D_V.mp4',\n",
       " '/home/hoseung/Dropbox/DeepInsight/2022/NIA/1Cycle/FHD/done/mobile_P_F_H1.mp4',\n",
       " '/home/hoseung/Dropbox/DeepInsight/2022/NIA/1Cycle/FHD/done/mobile_P_F_H2.mp4',\n",
       " '/home/hoseung/Dropbox/DeepInsight/2022/NIA/1Cycle/FHD/done/mobile_P_F_V.mp4',\n",
       " '/home/hoseung/Dropbox/DeepInsight/2022/NIA/1Cycle/FHD/done/mobile_P_N_H1.mp4',\n",
       " '/home/hoseung/Dropbox/DeepInsight/2022/NIA/1Cycle/FHD/done/mobile_P_N_H2.mp4',\n",
       " '/home/hoseung/Dropbox/DeepInsight/2022/NIA/1Cycle/FHD/done/mobile_P_N_V.mp4',\n",
       " '/home/hoseung/Dropbox/DeepInsight/2022/NIA/1Cycle/FHD/done/mobile_P_S_H1.mp4',\n",
       " '/home/hoseung/Dropbox/DeepInsight/2022/NIA/1Cycle/FHD/done/mobile_P_S_H2.mp4',\n",
       " '/home/hoseung/Dropbox/DeepInsight/2022/NIA/1Cycle/FHD/done/mobile_P_S_V.mp4',\n",
       " '/home/hoseung/Dropbox/DeepInsight/2022/NIA/1Cycle/FHD/done/mobile_S_A_H1.mp4',\n",
       " '/home/hoseung/Dropbox/DeepInsight/2022/NIA/1Cycle/FHD/done/mobile_S_A_H2.mp4',\n",
       " '/home/hoseung/Dropbox/DeepInsight/2022/NIA/1Cycle/FHD/done/mobile_S_A_V.mp4',\n",
       " '/home/hoseung/Dropbox/DeepInsight/2022/NIA/1Cycle/FHD/done/mobile_S_D_H1.mp4',\n",
       " '/home/hoseung/Dropbox/DeepInsight/2022/NIA/1Cycle/FHD/done/mobile_S_D_H2.mp4',\n",
       " '/home/hoseung/Dropbox/DeepInsight/2022/NIA/1Cycle/FHD/done/mobile_S_D_V.mp4',\n",
       " '/home/hoseung/Dropbox/DeepInsight/2022/NIA/1Cycle/FHD/done/mobile_S_F_H1.mp4',\n",
       " '/home/hoseung/Dropbox/DeepInsight/2022/NIA/1Cycle/FHD/done/mobile_S_F_H2.mp4',\n",
       " '/home/hoseung/Dropbox/DeepInsight/2022/NIA/1Cycle/FHD/done/mobile_S_F_V.mp4',\n",
       " '/home/hoseung/Dropbox/DeepInsight/2022/NIA/1Cycle/FHD/done/mobile_S_N_H1.mp4',\n",
       " '/home/hoseung/Dropbox/DeepInsight/2022/NIA/1Cycle/FHD/done/mobile_S_N_H2.mp4',\n",
       " '/home/hoseung/Dropbox/DeepInsight/2022/NIA/1Cycle/FHD/done/mobile_S_N_V.mp4',\n",
       " '/home/hoseung/Dropbox/DeepInsight/2022/NIA/1Cycle/FHD/done/mobile_T_A_H1.mp4',\n",
       " '/home/hoseung/Dropbox/DeepInsight/2022/NIA/1Cycle/FHD/done/mobile_T_A_H2.mp4',\n",
       " '/home/hoseung/Dropbox/DeepInsight/2022/NIA/1Cycle/FHD/done/mobile_T_A_V.mp4',\n",
       " '/home/hoseung/Dropbox/DeepInsight/2022/NIA/1Cycle/FHD/done/mobile_T_D_H1.mp4',\n",
       " '/home/hoseung/Dropbox/DeepInsight/2022/NIA/1Cycle/FHD/done/mobile_T_D_H2.mp4',\n",
       " '/home/hoseung/Dropbox/DeepInsight/2022/NIA/1Cycle/FHD/done/mobile_T_D_V.mp4',\n",
       " '/home/hoseung/Dropbox/DeepInsight/2022/NIA/1Cycle/FHD/done/mobile_T_F_H1.mp4',\n",
       " '/home/hoseung/Dropbox/DeepInsight/2022/NIA/1Cycle/FHD/done/mobile_T_F_H2.mp4',\n",
       " '/home/hoseung/Dropbox/DeepInsight/2022/NIA/1Cycle/FHD/done/mobile_T_F_V.mp4',\n",
       " '/home/hoseung/Dropbox/DeepInsight/2022/NIA/1Cycle/FHD/done/mobile_T_N_H1.mp4',\n",
       " '/home/hoseung/Dropbox/DeepInsight/2022/NIA/1Cycle/FHD/done/mobile_T_N_H2.mp4',\n",
       " '/home/hoseung/Dropbox/DeepInsight/2022/NIA/1Cycle/FHD/done/mobile_T_N_V.mp4']"
      ]
     },
     "execution_count": 32,
     "metadata": {},
     "output_type": "execute_result"
    }
   ],
   "source": [
    "clip_list"
   ]
  },
  {
   "cell_type": "code",
   "execution_count": null,
   "id": "c2891774",
   "metadata": {},
   "outputs": [],
   "source": []
  }
 ],
 "metadata": {
  "kernelspec": {
   "display_name": "Python 3 (ipykernel)",
   "language": "python",
   "name": "python3"
  },
  "language_info": {
   "codemirror_mode": {
    "name": "ipython",
    "version": 3
   },
   "file_extension": ".py",
   "mimetype": "text/x-python",
   "name": "python",
   "nbconvert_exporter": "python",
   "pygments_lexer": "ipython3",
   "version": "3.10.4"
  }
 },
 "nbformat": 4,
 "nbformat_minor": 5
}
